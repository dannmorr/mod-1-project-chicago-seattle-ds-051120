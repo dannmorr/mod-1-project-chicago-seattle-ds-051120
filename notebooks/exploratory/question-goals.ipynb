{
 "cells": [
  {
   "cell_type": "markdown",
   "metadata": {},
   "source": [
    "# South King County Opportunity Youth\n",
    "\n",
    "This project offers an updated estimate of the number of Opportunity Youth in South King County using the 2017 5-year American Community Survey [(ACS)](https://www.census.gov/programs-surveys/acs/about.html) Public Use Microdata Survey [(PUMS)](https://www.census.gov/programs-surveys/acs/technical-documentation/pums.html)."
   ]
  },
  {
   "cell_type": "markdown",
   "metadata": {},
   "source": [
    "### Data Download\n",
    "\n",
    "To download the relevant data, run the following command *in Python*:\n",
    "\n",
    "```\n",
    "data_collection.download_data_and_load_into_sql()\n",
    "```\n",
    "\n",
    "Note that this may take 10 or more minutes depending on internet speed.\n",
    "\n",
    "There is an example notebook in the `notebooks/exploratory` directory with this code already added.\n",
    "\n",
    "## BACKGROUND\n",
    "\n",
    "Measuring the successes and barriers faced by our most vulnerable youth is a challenge in the South King County region<sup>1</sup>. While there is a lot of information gathered from K12 districts and colleges about student outcomes, few data exists among Opportunity Youth (OY): young folks between the age 16 through 24 who are disengaged from both work and school<sup>2</sup>. This population is of particular interest to The Seattle Region Partnership (SRP), a multi-sector initiative founded by the Seattle Metropolitan Chamber of Commerce, Seattle Foundation, City of Seattle, and King County<sup>3</sup>."
   ]
  },
  {
   "cell_type": "markdown",
   "metadata": {},
   "source": [
    "## PROJECT GOAL\n",
    "\n",
    "The SRP would like an update on the estimated number of OY in South King County. According to a recent The Seattle Times article, the number of OY in South King County has remained steadfast at 19,000<sup>4</sup>. However, that estimation comes from a report that is over three years old. As Data Science Consultants, your task is to **inform the SRP on the current status of OY in South King County using updated data.**\n",
    "\n",
    "## PROJECT REQUIREMENTS\n",
    "\n",
    "At minimum, the SRP is expecting the following:\n",
    "\n",
    "* A map that visualizes which parts of King County are a part of South King County;\n",
    "\n",
    "* An update of the estimated number of OY in South King County. In addition the estimate, be sure to include a breakdown of the count of OY by Public Use Microdata Area (PUMA) within South King County;\n",
    "\n",
    "* An update of the table “Opportunity Youth Status by Age” located on page 2 of the 2016 report “Opportunity Youth in the Road Map Project Region”; and\n",
    "\n",
    "* A visualization that highlights a trend between the 2016 report and current data.\n",
    "\n",
    "The SRP has asked that any extra time remaining be used to create the following items:\n",
    "\n",
    "* Create a choropleth map of the count of OY by PUMA within South King County;\n",
    "\n",
    "* For South King County, create a choropleth map that shows the percentage of jobs for workers age 29 or younger out of the total number of jobs per census block; and\n",
    "\n",
    "* Of the census blocks where jobs for workers age 29 or younger are the majority of employed people, what are a few of the industries that employ this group of people?\n",
    "\n",
    "* Utilize additional data sources to support your recommendations, e.g. [Census Bureau APIs](https://www.census.gov/data/developers/data-sets.html), [King County Open Data](https://data.kingcounty.gov/browse?limitTo=datasets&provenance=official), or [King County GIS Open Data](https://gis-kingcounty.opendata.arcgis.com/)"
   ]
  },
  {
   "cell_type": "markdown",
   "metadata": {},
   "source": [
    "## LEARNING GOALS\n",
    "\n",
    "The goal of this project is to showcase your newfound Python and PostgreSQL skills to generate analytical insights and communicate the high level takeaways to a non-technical audience. This project will emphasize the following learning goals:\n",
    "\n",
    "* Break down a question into small technical tasks;\n",
    "\n",
    "* Query data from a PostgreSQL database;\n",
    "\n",
    "* Produce descriptive statistics;\n",
    "\n",
    "* Visualize descriptive statistics; and\n",
    "\n",
    "* Tell a story from the descriptive statistics.\n",
    "\n",
    "## DELIVERABLES\n",
    "\n",
    "To complete this project, you will need to turn in the following deliverables:\n",
    "\n",
    "1. A public GitHub repository with a well organized directory structure (this structure has been provided for you in this project, but will not be provided in future projects)\n",
    "2. An `environment.yml` file that contains all the necessary packages needed to recreate your conda environment.\n",
    "    - Start with the provided `environment.yml`, then as you install any additional packages be sure to [export](https://docs.conda.io/projects/conda/en/latest/user-guide/tasks/manage-environments.html#exporting-the-environment-yml-file) the new version and commit the changes in git.\n",
    "    - For Windows users, generate a `windows.yml` based on the provided `windows.yml`\n",
    "    - For Linux users, generate a `linux.yml` based on the provided `linux.yml`\n",
    "3. A standalone `src/` directory that stores all relevant source code.\n",
    "    - Although you may not be able to achieve this goal in Mod 1, we encourage you to package code into .py files and store them in src, then import the functions into the appropriate notebooks. Be ware of premature optimization, however.  Don't try to package your code before it works.\n",
    "    - All functions have docstrings that act as [professional-quality documentation](http://google.github.io/styleguide/pyguide.html#381-docstrings).\n",
    "    - [Well documented](https://www.sqlstyle.guide/) SQL queries with appropriate single-line or multiline comments.\n",
    "4. A user-focused `README.md` file that explains your process, methodology and findings.\n",
    "    - Provide a directory of your repository so a visitor will know where to look for your report notebook, your source code, etc. \n",
    "    - Take the time to make sure that you craft your story well, and clearly explain your process and findings in a way that clearly shows both your technical expertise and your ability to communicate your results!\n",
    "    - Begin with framing questions, describe your data source, include relevant, well labeled visualizations that support your conclusions, which come at the end.\n",
    "5. A record of your workflow stored in `notebooks/exploratory`.  Don't be afraid to leave in error messages, so you know what didn't work!\n",
    "6. One final Jupyter Notebook file stored in `notebooks/report` that focuses on visualization and presentation.\n",
    "    - The very beginning of the notebook contains a description of the purpose of the notebook.\n",
    "       - This is helpful for your future self and anyone of your colleagues that needs to view your notebook. Without this context, you’re implicitly asking your peers to invest a lot of energy to help solve your problem. Help them by enabling them to jump into your project by providing them the purpose of this Jupyter Notebook.\n",
    "    - Explanation of the data sources and where one can retrieve them\n",
    "        - Whenever possible, link to the corresponding data dictionary\n",
    "    - We encourage you to import custom functions and classes from Python modules and not create them directly in the notebook.  As soon as you have a working function in one of your exploratory notebooks, copy it over to `src` so it is reusable.\n",
    "    - Much of the content in the report will be shared with the README.\n",
    "8. An \"Executive Summary\" Keynote/PowerPoint/Google Slide presentation (delivered as a PDF export) that explains what you have found for the SRP. The presentation that accompanies that deck should be 4-5 minutes, so use your space wisely.\n",
    "    - Make sure to also add and commit this file as presentation.pdf of your non-technical presentation to your repository with a file name of `reports/presentation.pdf`.\n",
    "    - Contain between 5-10 professional quality slides detailing:\n",
    "       - A high-level overview of your methodology\n",
    "       - The results you’ve uncovered\n",
    "       - Any real-world recommendations you would like to make based on your findings (ask yourself--why should the executive team care about what you found? How can your findings help the company/stakeholder?)\n",
    "       - Avoid technical jargon and explain results in a clear, actionable way for non-technical audiences.\n",
    "    - All visualizations included in this presentation should also be exported as image files (e.g. with `plt.savefig`, not by taking a screenshot) and saved under `reports/figures/`\n",
    "9. Be sure to generate at least 3 high quality, well-labeled visualizations that support your conclusions. There should be a clear takeaway from each. These visualizations will reappear in the README, jupyter notebook report, and presentation deck."
   ]
  },
  {
   "cell_type": "code",
   "execution_count": null,
   "metadata": {},
   "outputs": [],
   "source": []
  }
 ],
 "metadata": {
  "kernelspec": {
   "display_name": "Python 3 (oy-env)",
   "language": "python",
   "name": "oy-env"
  },
  "language_info": {
   "codemirror_mode": {
    "name": "ipython",
    "version": 3
   },
   "file_extension": ".py",
   "mimetype": "text/x-python",
   "name": "python",
   "nbconvert_exporter": "python",
   "pygments_lexer": "ipython3",
   "version": "3.8.1"
  }
 },
 "nbformat": 4,
 "nbformat_minor": 4
}
