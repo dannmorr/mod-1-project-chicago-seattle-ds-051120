{
 "cells": [
  {
   "cell_type": "code",
   "execution_count": null,
   "metadata": {},
   "outputs": [],
   "source": [
    "fig, ax= plt.subplots(figsize = (12, 8))\n",
    "ax.bar(x=oy_df['age_group'], height= oy_df['person_weight'], color = 'green')\n",
    "#plt.title(\"Opportunity Youth by Age Group shows 22-24yos Dominate the population:\")\n",
    "\n",
    "plt.suptitle('Opportunity Youth by Age Group', size = 40)\n",
    "# plt.title('Upward trend of population', fontsize=20)\n",
    "plt.xlabel('Age Groups', size = 20)\n",
    "plt.ylabel('Population Count', size = 20)\n",
    "# plt.title('Opportunity Youth by Age Group', size = 40)\n",
    "plt.xticks(size = 12)\n",
    "plt.yticks(size = 12)\n",
    "# ax.set_title('Title', pad=20)\n",
    "# plt.tight_layout()"
   ]
  }
 ],
 "metadata": {
  "kernelspec": {
   "display_name": "Python 3 (oy-env)",
   "language": "python",
   "name": "oy-env"
  },
  "language_info": {
   "codemirror_mode": {
    "name": "ipython",
    "version": 3
   },
   "file_extension": ".py",
   "mimetype": "text/x-python",
   "name": "python",
   "nbconvert_exporter": "python",
   "pygments_lexer": "ipython3",
   "version": "3.8.1"
  }
 },
 "nbformat": 4,
 "nbformat_minor": 4
}
