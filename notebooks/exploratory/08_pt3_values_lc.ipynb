{
 "cells": [
  {
   "cell_type": "markdown",
   "metadata": {},
   "source": [
    "**Expand the '...' cell below and run it.  It includes a function which is used to create the skc_df necessary throughout this notebook.**\n",
    "\n",
    "(I've collapsed it simply because it's ugly)"
   ]
  },
  {
   "cell_type": "code",
   "execution_count": 2,
   "metadata": {
    "jupyter": {
     "source_hidden": true
    }
   },
   "outputs": [],
   "source": [
    "def create_skc_df():\n",
    "    # import relevant packages\n",
    "    import psycopg2\n",
    "    import pandas as pd\n",
    "    import numpy as np\n",
    "    import matplotlib.pyplot as plt\n",
    "\n",
    "    # Establish DB:\n",
    "    DBNAME = \"opportunity_youth\"\n",
    "\n",
    "    # Create a connection to db\n",
    "    conn = psycopg2.connect(dbname=DBNAME)\n",
    "    \n",
    "    # define initial skc_df with appropriate age range\n",
    "    def skc_df():\n",
    "    \n",
    "        skc_puma_codes = ['11613', '11614', '11615', '11612']\n",
    "    \n",
    "        QUERY = \"\"\"\n",
    "        SELECT rt AS record_type, serialno AS id, agep AS age, sex, st, pwgtp AS person_weight, puma, sch AS school_enrollment, schl AS education_attained, \n",
    "                esr AS employment_status, nwab AS absent_from_work, nwav AS avail_for_work, nwla AS layoff, nwlk AS look_for_work\n",
    "        FROM pums_2017\n",
    "        WHERE agep BETWEEN 16 AND 24\"\"\"\n",
    "\n",
    "        relevant_ages_pums = pd.read_sql(QUERY, conn)\n",
    "        skc_df = relevant_ages_pums[relevant_ages_pums['puma'].isin(skc_puma_codes)]    \n",
    "\n",
    "        return skc_df\n",
    "    \n",
    "    # Call the above function and assign it to a variable\n",
    "    skc_df = skc_df()\n",
    "    \n",
    "    # Add 2 new columns to skc_df:  \n",
    "    skc_df['age_group'] = 'assign vals'\n",
    "    skc_df['is_oy'] = 'assign bool'\n",
    "    \n",
    "    # Create oy employment/school variables:\n",
    "    oy_employment_status = ['3', '6']\n",
    "    oy_school_enrollment = ['1']\n",
    "    \n",
    "    # Assign values to 'is_oy'\n",
    "    skc_df['is_oy'] = (skc_df['employment_status'].isin(oy_employment_status)) & (skc_df['school_enrollment'].isin(oy_school_enrollment))\n",
    "    \n",
    "    # Create function to categorise age into groups:\n",
    "    def get_age_group(age):\n",
    "        if age in range(16, 19):\n",
    "            return 'Ages 16-18'\n",
    "        elif age in range(19, 22):\n",
    "            return 'Ages 19-21'\n",
    "        else:\n",
    "            return 'Ages 22-24'\n",
    "        \n",
    "    # Assign values to age_group using function above:\n",
    "    skc_df['age_group'] = skc_df['age'].map(get_age_group)\n",
    "    \n",
    "    return skc_df"
   ]
  },
  {
   "cell_type": "markdown",
   "metadata": {},
   "source": [
    "## Table values:\n",
    "\n",
    "In this notebook, I create variables for the values that are necessary to fill in the table for part 3 of the project.  These will also be used for part 4. \n",
    "\n",
    "### Values to create:\n",
    "- [x] Total Pop count and percentage for each age group\n",
    "- [x] OY Pop count and percentage for each age group \n",
    "- [x] Working without diploma count and percentage for each age group \n",
    "- [x] Not an OY count and percentage for each age group \n",
    "- [x] OY, No diploma count and percentage for each age group \n",
    "- [x] OY, Disploma or GED count and percentage for each age group \n",
    "- [x] OY, Some college, no degree count and percentage for each age group \n",
    "- [x] OY, degree count and percentage for each age group "
   ]
  },
  {
   "cell_type": "code",
   "execution_count": 3,
   "metadata": {},
   "outputs": [],
   "source": [
    "skc_df = create_skc_df()"
   ]
  },
  {
   "cell_type": "code",
   "execution_count": 4,
   "metadata": {},
   "outputs": [
    {
     "data": {
      "text/html": [
       "<div>\n",
       "<style scoped>\n",
       "    .dataframe tbody tr th:only-of-type {\n",
       "        vertical-align: middle;\n",
       "    }\n",
       "\n",
       "    .dataframe tbody tr th {\n",
       "        vertical-align: top;\n",
       "    }\n",
       "\n",
       "    .dataframe thead th {\n",
       "        text-align: right;\n",
       "    }\n",
       "</style>\n",
       "<table border=\"1\" class=\"dataframe\">\n",
       "  <thead>\n",
       "    <tr style=\"text-align: right;\">\n",
       "      <th></th>\n",
       "      <th>record_type</th>\n",
       "      <th>id</th>\n",
       "      <th>age</th>\n",
       "      <th>sex</th>\n",
       "      <th>st</th>\n",
       "      <th>person_weight</th>\n",
       "      <th>puma</th>\n",
       "      <th>school_enrollment</th>\n",
       "      <th>education_attained</th>\n",
       "      <th>employment_status</th>\n",
       "      <th>absent_from_work</th>\n",
       "      <th>avail_for_work</th>\n",
       "      <th>layoff</th>\n",
       "      <th>look_for_work</th>\n",
       "      <th>age_group</th>\n",
       "      <th>is_oy</th>\n",
       "    </tr>\n",
       "  </thead>\n",
       "  <tbody>\n",
       "    <tr>\n",
       "      <th>32</th>\n",
       "      <td>P</td>\n",
       "      <td>2013000007063</td>\n",
       "      <td>19.0</td>\n",
       "      <td>1</td>\n",
       "      <td>53</td>\n",
       "      <td>30.0</td>\n",
       "      <td>11612</td>\n",
       "      <td>2</td>\n",
       "      <td>18</td>\n",
       "      <td>6</td>\n",
       "      <td>2</td>\n",
       "      <td>5</td>\n",
       "      <td>2</td>\n",
       "      <td>2</td>\n",
       "      <td>Ages 19-21</td>\n",
       "      <td>False</td>\n",
       "    </tr>\n",
       "    <tr>\n",
       "      <th>36</th>\n",
       "      <td>P</td>\n",
       "      <td>2013000008046</td>\n",
       "      <td>17.0</td>\n",
       "      <td>2</td>\n",
       "      <td>53</td>\n",
       "      <td>36.0</td>\n",
       "      <td>11613</td>\n",
       "      <td>2</td>\n",
       "      <td>13</td>\n",
       "      <td>6</td>\n",
       "      <td>2</td>\n",
       "      <td>5</td>\n",
       "      <td>2</td>\n",
       "      <td>2</td>\n",
       "      <td>Ages 16-18</td>\n",
       "      <td>False</td>\n",
       "    </tr>\n",
       "    <tr>\n",
       "      <th>48</th>\n",
       "      <td>P</td>\n",
       "      <td>2013000011255</td>\n",
       "      <td>17.0</td>\n",
       "      <td>2</td>\n",
       "      <td>53</td>\n",
       "      <td>13.0</td>\n",
       "      <td>11614</td>\n",
       "      <td>2</td>\n",
       "      <td>12</td>\n",
       "      <td>6</td>\n",
       "      <td>2</td>\n",
       "      <td>5</td>\n",
       "      <td>2</td>\n",
       "      <td>2</td>\n",
       "      <td>Ages 16-18</td>\n",
       "      <td>False</td>\n",
       "    </tr>\n",
       "    <tr>\n",
       "      <th>54</th>\n",
       "      <td>P</td>\n",
       "      <td>2013000012970</td>\n",
       "      <td>21.0</td>\n",
       "      <td>2</td>\n",
       "      <td>53</td>\n",
       "      <td>29.0</td>\n",
       "      <td>11612</td>\n",
       "      <td>3</td>\n",
       "      <td>18</td>\n",
       "      <td>6</td>\n",
       "      <td>2</td>\n",
       "      <td>5</td>\n",
       "      <td>2</td>\n",
       "      <td>2</td>\n",
       "      <td>Ages 19-21</td>\n",
       "      <td>False</td>\n",
       "    </tr>\n",
       "    <tr>\n",
       "      <th>57</th>\n",
       "      <td>P</td>\n",
       "      <td>2013000013525</td>\n",
       "      <td>18.0</td>\n",
       "      <td>2</td>\n",
       "      <td>53</td>\n",
       "      <td>24.0</td>\n",
       "      <td>11613</td>\n",
       "      <td>2</td>\n",
       "      <td>15</td>\n",
       "      <td>6</td>\n",
       "      <td>2</td>\n",
       "      <td>5</td>\n",
       "      <td>2</td>\n",
       "      <td>2</td>\n",
       "      <td>Ages 16-18</td>\n",
       "      <td>False</td>\n",
       "    </tr>\n",
       "    <tr>\n",
       "      <th>...</th>\n",
       "      <td>...</td>\n",
       "      <td>...</td>\n",
       "      <td>...</td>\n",
       "      <td>...</td>\n",
       "      <td>...</td>\n",
       "      <td>...</td>\n",
       "      <td>...</td>\n",
       "      <td>...</td>\n",
       "      <td>...</td>\n",
       "      <td>...</td>\n",
       "      <td>...</td>\n",
       "      <td>...</td>\n",
       "      <td>...</td>\n",
       "      <td>...</td>\n",
       "      <td>...</td>\n",
       "      <td>...</td>\n",
       "    </tr>\n",
       "    <tr>\n",
       "      <th>37134</th>\n",
       "      <td>P</td>\n",
       "      <td>2017001386502</td>\n",
       "      <td>18.0</td>\n",
       "      <td>1</td>\n",
       "      <td>53</td>\n",
       "      <td>17.0</td>\n",
       "      <td>11613</td>\n",
       "      <td>1</td>\n",
       "      <td>11</td>\n",
       "      <td>6</td>\n",
       "      <td>3</td>\n",
       "      <td>5</td>\n",
       "      <td>3</td>\n",
       "      <td>3</td>\n",
       "      <td>Ages 16-18</td>\n",
       "      <td>True</td>\n",
       "    </tr>\n",
       "    <tr>\n",
       "      <th>37684</th>\n",
       "      <td>P</td>\n",
       "      <td>2017001464049</td>\n",
       "      <td>21.0</td>\n",
       "      <td>2</td>\n",
       "      <td>53</td>\n",
       "      <td>18.0</td>\n",
       "      <td>11613</td>\n",
       "      <td>1</td>\n",
       "      <td>16</td>\n",
       "      <td>6</td>\n",
       "      <td>3</td>\n",
       "      <td>5</td>\n",
       "      <td>3</td>\n",
       "      <td>3</td>\n",
       "      <td>Ages 19-21</td>\n",
       "      <td>True</td>\n",
       "    </tr>\n",
       "    <tr>\n",
       "      <th>37718</th>\n",
       "      <td>P</td>\n",
       "      <td>2017001470135</td>\n",
       "      <td>23.0</td>\n",
       "      <td>1</td>\n",
       "      <td>53</td>\n",
       "      <td>17.0</td>\n",
       "      <td>11613</td>\n",
       "      <td>1</td>\n",
       "      <td>14</td>\n",
       "      <td>6</td>\n",
       "      <td>3</td>\n",
       "      <td>5</td>\n",
       "      <td>3</td>\n",
       "      <td>3</td>\n",
       "      <td>Ages 22-24</td>\n",
       "      <td>True</td>\n",
       "    </tr>\n",
       "    <tr>\n",
       "      <th>38050</th>\n",
       "      <td>P</td>\n",
       "      <td>2017001518359</td>\n",
       "      <td>18.0</td>\n",
       "      <td>1</td>\n",
       "      <td>53</td>\n",
       "      <td>20.0</td>\n",
       "      <td>11613</td>\n",
       "      <td>1</td>\n",
       "      <td>11</td>\n",
       "      <td>6</td>\n",
       "      <td>3</td>\n",
       "      <td>5</td>\n",
       "      <td>3</td>\n",
       "      <td>3</td>\n",
       "      <td>Ages 16-18</td>\n",
       "      <td>True</td>\n",
       "    </tr>\n",
       "    <tr>\n",
       "      <th>38130</th>\n",
       "      <td>P</td>\n",
       "      <td>2017001530818</td>\n",
       "      <td>23.0</td>\n",
       "      <td>1</td>\n",
       "      <td>53</td>\n",
       "      <td>26.0</td>\n",
       "      <td>11613</td>\n",
       "      <td>1</td>\n",
       "      <td>21</td>\n",
       "      <td>1</td>\n",
       "      <td>2</td>\n",
       "      <td>3</td>\n",
       "      <td>2</td>\n",
       "      <td>2</td>\n",
       "      <td>Ages 22-24</td>\n",
       "      <td>False</td>\n",
       "    </tr>\n",
       "  </tbody>\n",
       "</table>\n",
       "<p>2359 rows × 16 columns</p>\n",
       "</div>"
      ],
      "text/plain": [
       "      record_type             id   age sex  st  person_weight   puma  \\\n",
       "32              P  2013000007063  19.0   1  53           30.0  11612   \n",
       "36              P  2013000008046  17.0   2  53           36.0  11613   \n",
       "48              P  2013000011255  17.0   2  53           13.0  11614   \n",
       "54              P  2013000012970  21.0   2  53           29.0  11612   \n",
       "57              P  2013000013525  18.0   2  53           24.0  11613   \n",
       "...           ...            ...   ...  ..  ..            ...    ...   \n",
       "37134           P  2017001386502  18.0   1  53           17.0  11613   \n",
       "37684           P  2017001464049  21.0   2  53           18.0  11613   \n",
       "37718           P  2017001470135  23.0   1  53           17.0  11613   \n",
       "38050           P  2017001518359  18.0   1  53           20.0  11613   \n",
       "38130           P  2017001530818  23.0   1  53           26.0  11613   \n",
       "\n",
       "      school_enrollment education_attained employment_status absent_from_work  \\\n",
       "32                    2                 18                 6                2   \n",
       "36                    2                 13                 6                2   \n",
       "48                    2                 12                 6                2   \n",
       "54                    3                 18                 6                2   \n",
       "57                    2                 15                 6                2   \n",
       "...                 ...                ...               ...              ...   \n",
       "37134                 1                 11                 6                3   \n",
       "37684                 1                 16                 6                3   \n",
       "37718                 1                 14                 6                3   \n",
       "38050                 1                 11                 6                3   \n",
       "38130                 1                 21                 1                2   \n",
       "\n",
       "      avail_for_work layoff look_for_work   age_group  is_oy  \n",
       "32                 5      2             2  Ages 19-21  False  \n",
       "36                 5      2             2  Ages 16-18  False  \n",
       "48                 5      2             2  Ages 16-18  False  \n",
       "54                 5      2             2  Ages 19-21  False  \n",
       "57                 5      2             2  Ages 16-18  False  \n",
       "...              ...    ...           ...         ...    ...  \n",
       "37134              5      3             3  Ages 16-18   True  \n",
       "37684              5      3             3  Ages 19-21   True  \n",
       "37718              5      3             3  Ages 22-24   True  \n",
       "38050              5      3             3  Ages 16-18   True  \n",
       "38130              3      2             2  Ages 22-24  False  \n",
       "\n",
       "[2359 rows x 16 columns]"
      ]
     },
     "execution_count": 4,
     "metadata": {},
     "output_type": "execute_result"
    }
   ],
   "source": [
    "skc_df"
   ]
  },
  {
   "cell_type": "markdown",
   "metadata": {},
   "source": [
    "## Values for Top Half of Table \"Total Population\":"
   ]
  },
  {
   "cell_type": "markdown",
   "metadata": {},
   "source": [
    "### Total Population Row:"
   ]
  },
  {
   "cell_type": "markdown",
   "metadata": {},
   "source": [
    "Make a dataframe to display the population counts:"
   ]
  },
  {
   "cell_type": "code",
   "execution_count": 5,
   "metadata": {},
   "outputs": [
    {
     "data": {
      "text/html": [
       "<div>\n",
       "<style scoped>\n",
       "    .dataframe tbody tr th:only-of-type {\n",
       "        vertical-align: middle;\n",
       "    }\n",
       "\n",
       "    .dataframe tbody tr th {\n",
       "        vertical-align: top;\n",
       "    }\n",
       "\n",
       "    .dataframe thead th {\n",
       "        text-align: right;\n",
       "    }\n",
       "</style>\n",
       "<table border=\"1\" class=\"dataframe\">\n",
       "  <thead>\n",
       "    <tr style=\"text-align: right;\">\n",
       "      <th></th>\n",
       "      <th>population</th>\n",
       "    </tr>\n",
       "    <tr>\n",
       "      <th>age_group</th>\n",
       "      <th></th>\n",
       "    </tr>\n",
       "  </thead>\n",
       "  <tbody>\n",
       "    <tr>\n",
       "      <th>Ages 16-18</th>\n",
       "      <td>20635.0</td>\n",
       "    </tr>\n",
       "    <tr>\n",
       "      <th>Ages 19-21</th>\n",
       "      <td>17702.0</td>\n",
       "    </tr>\n",
       "    <tr>\n",
       "      <th>Ages 22-24</th>\n",
       "      <td>19579.0</td>\n",
       "    </tr>\n",
       "  </tbody>\n",
       "</table>\n",
       "</div>"
      ],
      "text/plain": [
       "            population\n",
       "age_group             \n",
       "Ages 16-18     20635.0\n",
       "Ages 19-21     17702.0\n",
       "Ages 22-24     19579.0"
      ]
     },
     "execution_count": 5,
     "metadata": {},
     "output_type": "execute_result"
    }
   ],
   "source": [
    "tot_pops_df = skc_df.groupby(['age_group']).sum().drop(columns = ['age', 'is_oy'])\n",
    "tot_pops_df.rename(columns = {'person_weight': 'population'}, inplace = True)\n",
    "tot_pops_df"
   ]
  },
  {
   "cell_type": "markdown",
   "metadata": {},
   "source": [
    "Create a variable containing the total population of 16-24yos in SKC:"
   ]
  },
  {
   "cell_type": "code",
   "execution_count": 6,
   "metadata": {},
   "outputs": [
    {
     "data": {
      "text/plain": [
       "population    57916.0\n",
       "dtype: float64"
      ]
     },
     "execution_count": 6,
     "metadata": {},
     "output_type": "execute_result"
    }
   ],
   "source": [
    "tot_pop = tot_pops_df.sum()\n",
    "tot_pop"
   ]
  },
  {
   "cell_type": "markdown",
   "metadata": {},
   "source": [
    "### Opportunity Youth Row:\n",
    "Make a dataframe to display the opportunity youth population counts and percentages:"
   ]
  },
  {
   "cell_type": "code",
   "execution_count": 7,
   "metadata": {},
   "outputs": [
    {
     "data": {
      "text/html": [
       "<div>\n",
       "<style scoped>\n",
       "    .dataframe tbody tr th:only-of-type {\n",
       "        vertical-align: middle;\n",
       "    }\n",
       "\n",
       "    .dataframe tbody tr th {\n",
       "        vertical-align: top;\n",
       "    }\n",
       "\n",
       "    .dataframe thead th {\n",
       "        text-align: right;\n",
       "    }\n",
       "</style>\n",
       "<table border=\"1\" class=\"dataframe\">\n",
       "  <thead>\n",
       "    <tr style=\"text-align: right;\">\n",
       "      <th></th>\n",
       "      <th>population</th>\n",
       "      <th>percentage</th>\n",
       "    </tr>\n",
       "    <tr>\n",
       "      <th>age_group</th>\n",
       "      <th></th>\n",
       "      <th></th>\n",
       "    </tr>\n",
       "  </thead>\n",
       "  <tbody>\n",
       "    <tr>\n",
       "      <th>Ages 16-18</th>\n",
       "      <td>1230.0</td>\n",
       "      <td>6.0</td>\n",
       "    </tr>\n",
       "    <tr>\n",
       "      <th>Ages 19-21</th>\n",
       "      <td>2541.0</td>\n",
       "      <td>14.0</td>\n",
       "    </tr>\n",
       "    <tr>\n",
       "      <th>Ages 22-24</th>\n",
       "      <td>2952.0</td>\n",
       "      <td>15.0</td>\n",
       "    </tr>\n",
       "  </tbody>\n",
       "</table>\n",
       "</div>"
      ],
      "text/plain": [
       "            population  percentage\n",
       "age_group                         \n",
       "Ages 16-18      1230.0         6.0\n",
       "Ages 19-21      2541.0        14.0\n",
       "Ages 22-24      2952.0        15.0"
      ]
     },
     "execution_count": 7,
     "metadata": {},
     "output_type": "execute_result"
    }
   ],
   "source": [
    "oy_pop_df = skc_df[skc_df['is_oy']].groupby(['age_group']).sum().drop(columns = ['age', 'is_oy'])\n",
    "oy_pop_df.rename(columns = {'person_weight': 'population'}, inplace = True)\n",
    "oy_pop_df['percentage'] = round(oy_pop_df['population'] / tot_pops_df['population'] * 100)\n",
    "oy_pop_df"
   ]
  },
  {
   "cell_type": "code",
   "execution_count": 8,
   "metadata": {},
   "outputs": [
    {
     "data": {
      "text/plain": [
       "6723.0"
      ]
     },
     "execution_count": 8,
     "metadata": {},
     "output_type": "execute_result"
    }
   ],
   "source": [
    "oy_tot_pop = oy_pop_df['population'].sum()\n",
    "oy_tot_pop"
   ]
  },
  {
   "cell_type": "markdown",
   "metadata": {},
   "source": [
    "### Working without diploma row:\n",
    "\n",
    "Make a dataframe to display the opportunity youth population countrs and percentages:"
   ]
  },
  {
   "cell_type": "code",
   "execution_count": 9,
   "metadata": {},
   "outputs": [
    {
     "data": {
      "text/html": [
       "<div>\n",
       "<style scoped>\n",
       "    .dataframe tbody tr th:only-of-type {\n",
       "        vertical-align: middle;\n",
       "    }\n",
       "\n",
       "    .dataframe tbody tr th {\n",
       "        vertical-align: top;\n",
       "    }\n",
       "\n",
       "    .dataframe thead th {\n",
       "        text-align: right;\n",
       "    }\n",
       "</style>\n",
       "<table border=\"1\" class=\"dataframe\">\n",
       "  <thead>\n",
       "    <tr style=\"text-align: right;\">\n",
       "      <th></th>\n",
       "      <th>population</th>\n",
       "      <th>percentage</th>\n",
       "    </tr>\n",
       "    <tr>\n",
       "      <th>age_group</th>\n",
       "      <th></th>\n",
       "      <th></th>\n",
       "    </tr>\n",
       "  </thead>\n",
       "  <tbody>\n",
       "    <tr>\n",
       "      <th>Ages 16-18</th>\n",
       "      <td>194.0</td>\n",
       "      <td>1.0</td>\n",
       "    </tr>\n",
       "    <tr>\n",
       "      <th>Ages 19-21</th>\n",
       "      <td>278.0</td>\n",
       "      <td>2.0</td>\n",
       "    </tr>\n",
       "    <tr>\n",
       "      <th>Ages 22-24</th>\n",
       "      <td>373.0</td>\n",
       "      <td>2.0</td>\n",
       "    </tr>\n",
       "  </tbody>\n",
       "</table>\n",
       "</div>"
      ],
      "text/plain": [
       "            population  percentage\n",
       "age_group                         \n",
       "Ages 16-18       194.0         1.0\n",
       "Ages 19-21       278.0         2.0\n",
       "Ages 22-24       373.0         2.0"
      ]
     },
     "execution_count": 9,
     "metadata": {},
     "output_type": "execute_result"
    }
   ],
   "source": [
    "work_no_dip = skc_df[(skc_df['employment_status'].isin(['1', '2', '4', '5'])) & (skc_df['education_attained'] == '15')].groupby(['age_group']).sum().drop(columns = ['age', 'is_oy'])\n",
    "work_no_dip.rename(columns = {'person_weight': 'population'}, inplace = True)\n",
    "work_no_dip['percentage'] = round(work_no_dip['population'] / tot_pops_df['population'] * 100)\n",
    "work_no_dip"
   ]
  },
  {
   "cell_type": "code",
   "execution_count": 10,
   "metadata": {},
   "outputs": [
    {
     "data": {
      "text/plain": [
       "845.0"
      ]
     },
     "execution_count": 10,
     "metadata": {},
     "output_type": "execute_result"
    }
   ],
   "source": [
    "work_no_dip_tot = work_no_dip['population'].sum()\n",
    "work_no_dip_tot"
   ]
  },
  {
   "cell_type": "markdown",
   "metadata": {},
   "source": [
    "### Not OY row:\n",
    "\n",
    "Make a dataframe to display the non-opportunity youth population countrs and percentages:"
   ]
  },
  {
   "cell_type": "code",
   "execution_count": 11,
   "metadata": {},
   "outputs": [
    {
     "data": {
      "text/html": [
       "<div>\n",
       "<style scoped>\n",
       "    .dataframe tbody tr th:only-of-type {\n",
       "        vertical-align: middle;\n",
       "    }\n",
       "\n",
       "    .dataframe tbody tr th {\n",
       "        vertical-align: top;\n",
       "    }\n",
       "\n",
       "    .dataframe thead th {\n",
       "        text-align: right;\n",
       "    }\n",
       "</style>\n",
       "<table border=\"1\" class=\"dataframe\">\n",
       "  <thead>\n",
       "    <tr style=\"text-align: right;\">\n",
       "      <th></th>\n",
       "      <th>population</th>\n",
       "      <th>percentage</th>\n",
       "    </tr>\n",
       "    <tr>\n",
       "      <th>age_group</th>\n",
       "      <th></th>\n",
       "      <th></th>\n",
       "    </tr>\n",
       "  </thead>\n",
       "  <tbody>\n",
       "    <tr>\n",
       "      <th>Ages 16-18</th>\n",
       "      <td>19405.0</td>\n",
       "      <td>94.0</td>\n",
       "    </tr>\n",
       "    <tr>\n",
       "      <th>Ages 19-21</th>\n",
       "      <td>15161.0</td>\n",
       "      <td>86.0</td>\n",
       "    </tr>\n",
       "    <tr>\n",
       "      <th>Ages 22-24</th>\n",
       "      <td>16627.0</td>\n",
       "      <td>85.0</td>\n",
       "    </tr>\n",
       "  </tbody>\n",
       "</table>\n",
       "</div>"
      ],
      "text/plain": [
       "            population  percentage\n",
       "age_group                         \n",
       "Ages 16-18     19405.0        94.0\n",
       "Ages 19-21     15161.0        86.0\n",
       "Ages 22-24     16627.0        85.0"
      ]
     },
     "execution_count": 11,
     "metadata": {},
     "output_type": "execute_result"
    }
   ],
   "source": [
    "noy_pop_df = skc_df[skc_df['is_oy'] == False].groupby(['age_group']).sum().drop(columns = ['age', 'is_oy'])\n",
    "noy_pop_df.rename(columns = {'person_weight': 'population'}, inplace = True)\n",
    "noy_pop_df['percentage'] = round(noy_pop_df['population'] / tot_pops_df['population'] * 100)\n",
    "noy_pop_df"
   ]
  },
  {
   "cell_type": "code",
   "execution_count": 12,
   "metadata": {},
   "outputs": [
    {
     "data": {
      "text/plain": [
       "51193.0"
      ]
     },
     "execution_count": 12,
     "metadata": {},
     "output_type": "execute_result"
    }
   ],
   "source": [
    "noy_tot_pop = noy_pop_df['population'].sum()\n",
    "noy_tot_pop"
   ]
  },
  {
   "cell_type": "markdown",
   "metadata": {},
   "source": [
    "## Values for Bottom Half of Table \"Opportunity Youth\":"
   ]
  },
  {
   "cell_type": "markdown",
   "metadata": {},
   "source": [
    "### Opportunity Youth Row:\n",
    "Make a dataframe to display the opportunity youth population counts and percentages:"
   ]
  },
  {
   "cell_type": "code",
   "execution_count": 13,
   "metadata": {},
   "outputs": [
    {
     "data": {
      "text/html": [
       "<div>\n",
       "<style scoped>\n",
       "    .dataframe tbody tr th:only-of-type {\n",
       "        vertical-align: middle;\n",
       "    }\n",
       "\n",
       "    .dataframe tbody tr th {\n",
       "        vertical-align: top;\n",
       "    }\n",
       "\n",
       "    .dataframe thead th {\n",
       "        text-align: right;\n",
       "    }\n",
       "</style>\n",
       "<table border=\"1\" class=\"dataframe\">\n",
       "  <thead>\n",
       "    <tr style=\"text-align: right;\">\n",
       "      <th></th>\n",
       "      <th>population</th>\n",
       "      <th>percentage</th>\n",
       "    </tr>\n",
       "    <tr>\n",
       "      <th>age_group</th>\n",
       "      <th></th>\n",
       "      <th></th>\n",
       "    </tr>\n",
       "  </thead>\n",
       "  <tbody>\n",
       "    <tr>\n",
       "      <th>Ages 16-18</th>\n",
       "      <td>1230.0</td>\n",
       "      <td>6.0</td>\n",
       "    </tr>\n",
       "    <tr>\n",
       "      <th>Ages 19-21</th>\n",
       "      <td>2541.0</td>\n",
       "      <td>14.0</td>\n",
       "    </tr>\n",
       "    <tr>\n",
       "      <th>Ages 22-24</th>\n",
       "      <td>2952.0</td>\n",
       "      <td>15.0</td>\n",
       "    </tr>\n",
       "  </tbody>\n",
       "</table>\n",
       "</div>"
      ],
      "text/plain": [
       "            population  percentage\n",
       "age_group                         \n",
       "Ages 16-18      1230.0         6.0\n",
       "Ages 19-21      2541.0        14.0\n",
       "Ages 22-24      2952.0        15.0"
      ]
     },
     "execution_count": 13,
     "metadata": {},
     "output_type": "execute_result"
    }
   ],
   "source": [
    "oy_pop_df"
   ]
  },
  {
   "cell_type": "code",
   "execution_count": 14,
   "metadata": {},
   "outputs": [
    {
     "data": {
      "text/plain": [
       "6723.0"
      ]
     },
     "execution_count": 14,
     "metadata": {},
     "output_type": "execute_result"
    }
   ],
   "source": [
    "oy_tot_pop"
   ]
  },
  {
   "cell_type": "markdown",
   "metadata": {},
   "source": [
    "### No Diploma Row:\n",
    "Make a dataframe to display the opportunity youth population **with no diploma** counts and percentages:"
   ]
  },
  {
   "cell_type": "code",
   "execution_count": 29,
   "metadata": {},
   "outputs": [
    {
     "data": {
      "text/html": [
       "<div>\n",
       "<style scoped>\n",
       "    .dataframe tbody tr th:only-of-type {\n",
       "        vertical-align: middle;\n",
       "    }\n",
       "\n",
       "    .dataframe tbody tr th {\n",
       "        vertical-align: top;\n",
       "    }\n",
       "\n",
       "    .dataframe thead th {\n",
       "        text-align: right;\n",
       "    }\n",
       "</style>\n",
       "<table border=\"1\" class=\"dataframe\">\n",
       "  <thead>\n",
       "    <tr style=\"text-align: right;\">\n",
       "      <th></th>\n",
       "      <th>population</th>\n",
       "      <th>percentage</th>\n",
       "    </tr>\n",
       "    <tr>\n",
       "      <th>age_group</th>\n",
       "      <th></th>\n",
       "      <th></th>\n",
       "    </tr>\n",
       "  </thead>\n",
       "  <tbody>\n",
       "    <tr>\n",
       "      <th>Ages 16-18</th>\n",
       "      <td>690.0</td>\n",
       "      <td>56.0</td>\n",
       "    </tr>\n",
       "    <tr>\n",
       "      <th>Ages 19-21</th>\n",
       "      <td>714.0</td>\n",
       "      <td>28.0</td>\n",
       "    </tr>\n",
       "    <tr>\n",
       "      <th>Ages 22-24</th>\n",
       "      <td>481.0</td>\n",
       "      <td>16.0</td>\n",
       "    </tr>\n",
       "  </tbody>\n",
       "</table>\n",
       "</div>"
      ],
      "text/plain": [
       "            population  percentage\n",
       "age_group                         \n",
       "Ages 16-18       690.0        56.0\n",
       "Ages 19-21       714.0        28.0\n",
       "Ages 22-24       481.0        16.0"
      ]
     },
     "execution_count": 29,
     "metadata": {},
     "output_type": "execute_result"
    }
   ],
   "source": [
    "# no diploma education categories:\n",
    "no_dips = list(map(str, range(1, 16)))\n",
    "\n",
    "no_dip_df = skc_df[(skc_df['is_oy']) & (skc_df['education_attained'].isin(no_dips))].groupby(['age_group']).sum().drop(columns = ['age', 'is_oy'])\n",
    "no_dip_df.rename(columns = {'person_weight': 'population'}, inplace = True)\n",
    "no_dip_df['percentage'] = round(no_dip_df['population'] / oy_pop_df['population'] * 100)\n",
    "no_dip_df"
   ]
  },
  {
   "cell_type": "code",
   "execution_count": 85,
   "metadata": {},
   "outputs": [
    {
     "data": {
      "text/plain": [
       "524.0"
      ]
     },
     "execution_count": 85,
     "metadata": {},
     "output_type": "execute_result"
    }
   ],
   "source": [
    "no_dip_tot_pop = no_dip_df['population'].sum()\n",
    "no_dip_tot_pop"
   ]
  },
  {
   "cell_type": "markdown",
   "metadata": {},
   "source": [
    "### HS Diploma or GED Row:\n",
    "Make a dataframe to display the opportunity youth population **with diploma OR GED** counts and percentages:"
   ]
  },
  {
   "cell_type": "code",
   "execution_count": 35,
   "metadata": {},
   "outputs": [
    {
     "data": {
      "text/html": [
       "<div>\n",
       "<style scoped>\n",
       "    .dataframe tbody tr th:only-of-type {\n",
       "        vertical-align: middle;\n",
       "    }\n",
       "\n",
       "    .dataframe tbody tr th {\n",
       "        vertical-align: top;\n",
       "    }\n",
       "\n",
       "    .dataframe thead th {\n",
       "        text-align: right;\n",
       "    }\n",
       "</style>\n",
       "<table border=\"1\" class=\"dataframe\">\n",
       "  <thead>\n",
       "    <tr style=\"text-align: right;\">\n",
       "      <th></th>\n",
       "      <th>population</th>\n",
       "      <th>percentage</th>\n",
       "    </tr>\n",
       "    <tr>\n",
       "      <th>age_group</th>\n",
       "      <th></th>\n",
       "      <th></th>\n",
       "    </tr>\n",
       "  </thead>\n",
       "  <tbody>\n",
       "    <tr>\n",
       "      <th>Ages 16-18</th>\n",
       "      <td>495.0</td>\n",
       "      <td>40.0</td>\n",
       "    </tr>\n",
       "    <tr>\n",
       "      <th>Ages 19-21</th>\n",
       "      <td>1405.0</td>\n",
       "      <td>55.0</td>\n",
       "    </tr>\n",
       "    <tr>\n",
       "      <th>Ages 22-24</th>\n",
       "      <td>1423.0</td>\n",
       "      <td>48.0</td>\n",
       "    </tr>\n",
       "  </tbody>\n",
       "</table>\n",
       "</div>"
      ],
      "text/plain": [
       "            population  percentage\n",
       "age_group                         \n",
       "Ages 16-18       495.0        40.0\n",
       "Ages 19-21      1405.0        55.0\n",
       "Ages 22-24      1423.0        48.0"
      ]
     },
     "execution_count": 35,
     "metadata": {},
     "output_type": "execute_result"
    }
   ],
   "source": [
    "#  Here I have included categoies '18' and '19', making the assumption that people who have completed some college must have a diploma or GED\n",
    "# As it stands, I'm keeping 18/19 out as it skews the numbers... \n",
    "# When I include 18, 19, ages 16-18 add to 100% but the rest go over 100%\n",
    "#  When i don't include, the total percentages are 98%, 98% and 95% respectively for each age group... \n",
    "#  Need to make a decision as what to use\n",
    "dip_ged = list(map(str, range(16, 18)))\n",
    "\n",
    "ged_df = skc_df[(skc_df['is_oy']) & (skc_df['education_attained'].isin(dip_ged))].groupby(['age_group']).sum().drop(columns = ['age', 'is_oy'])\n",
    "ged_df.rename(columns = {'person_weight': 'population'}, inplace = True)\n",
    "ged_df['percentage'] = round(ged_df['population'] / oy_pop_df['population'] * 100)\n",
    "ged_df"
   ]
  },
  {
   "cell_type": "code",
   "execution_count": 87,
   "metadata": {},
   "outputs": [
    {
     "data": {
      "text/plain": [
       "3323.0"
      ]
     },
     "execution_count": 87,
     "metadata": {},
     "output_type": "execute_result"
    }
   ],
   "source": [
    "ged_tot_pop = ged_df['population'].sum()\n",
    "ged_tot_pop"
   ]
  },
  {
   "cell_type": "markdown",
   "metadata": {},
   "source": [
    "### Some College, No Degree Row:\n",
    "Make a dataframe to display the opportunity youth population **with some college but no degree** counts and percentages:"
   ]
  },
  {
   "cell_type": "code",
   "execution_count": 88,
   "metadata": {},
   "outputs": [
    {
     "data": {
      "text/html": [
       "<div>\n",
       "<style scoped>\n",
       "    .dataframe tbody tr th:only-of-type {\n",
       "        vertical-align: middle;\n",
       "    }\n",
       "\n",
       "    .dataframe tbody tr th {\n",
       "        vertical-align: top;\n",
       "    }\n",
       "\n",
       "    .dataframe thead th {\n",
       "        text-align: right;\n",
       "    }\n",
       "</style>\n",
       "<table border=\"1\" class=\"dataframe\">\n",
       "  <thead>\n",
       "    <tr style=\"text-align: right;\">\n",
       "      <th></th>\n",
       "      <th>population</th>\n",
       "      <th>percentage</th>\n",
       "    </tr>\n",
       "    <tr>\n",
       "      <th>age_group</th>\n",
       "      <th></th>\n",
       "      <th></th>\n",
       "    </tr>\n",
       "  </thead>\n",
       "  <tbody>\n",
       "    <tr>\n",
       "      <th>Ages 16-18</th>\n",
       "      <td>19.0</td>\n",
       "      <td>2.0</td>\n",
       "    </tr>\n",
       "    <tr>\n",
       "      <th>Ages 19-21</th>\n",
       "      <td>295.0</td>\n",
       "      <td>12.0</td>\n",
       "    </tr>\n",
       "    <tr>\n",
       "      <th>Ages 22-24</th>\n",
       "      <td>675.0</td>\n",
       "      <td>23.0</td>\n",
       "    </tr>\n",
       "  </tbody>\n",
       "</table>\n",
       "</div>"
      ],
      "text/plain": [
       "            population  percentage\n",
       "age_group                         \n",
       "Ages 16-18        19.0         2.0\n",
       "Ages 19-21       295.0        12.0\n",
       "Ages 22-24       675.0        23.0"
      ]
     },
     "execution_count": 88,
     "metadata": {},
     "output_type": "execute_result"
    }
   ],
   "source": [
    "c_nodeg_df = skc_df[(skc_df['is_oy']) & (skc_df['education_attained'].isin(['18', '19']))].groupby(['age_group']).sum().drop(columns = ['age', 'is_oy'])\n",
    "c_nodeg_df.rename(columns = {'person_weight': 'population'}, inplace = True)\n",
    "c_nodeg_df['percentage'] = round(c_nodeg_df['population'] / oy_pop_df['population'] * 100)\n",
    "c_nodeg_df"
   ]
  },
  {
   "cell_type": "code",
   "execution_count": 89,
   "metadata": {},
   "outputs": [
    {
     "data": {
      "text/plain": [
       "989.0"
      ]
     },
     "execution_count": 89,
     "metadata": {},
     "output_type": "execute_result"
    }
   ],
   "source": [
    "c_nodeg_tot_pop = c_nodeg_df['population'].sum()\n",
    "c_nodeg_tot_pop"
   ]
  },
  {
   "cell_type": "markdown",
   "metadata": {},
   "source": [
    "### Degree (Associates or higher) Row:\n",
    "Make a dataframe to display the opportunity youth population **with an associates degree or higher** counts and percentages:"
   ]
  },
  {
   "cell_type": "code",
   "execution_count": 30,
   "metadata": {},
   "outputs": [
    {
     "data": {
      "text/html": [
       "<div>\n",
       "<style scoped>\n",
       "    .dataframe tbody tr th:only-of-type {\n",
       "        vertical-align: middle;\n",
       "    }\n",
       "\n",
       "    .dataframe tbody tr th {\n",
       "        vertical-align: top;\n",
       "    }\n",
       "\n",
       "    .dataframe thead th {\n",
       "        text-align: right;\n",
       "    }\n",
       "</style>\n",
       "<table border=\"1\" class=\"dataframe\">\n",
       "  <thead>\n",
       "    <tr style=\"text-align: right;\">\n",
       "      <th></th>\n",
       "      <th>population</th>\n",
       "      <th>percentage</th>\n",
       "    </tr>\n",
       "    <tr>\n",
       "      <th>age_group</th>\n",
       "      <th></th>\n",
       "      <th></th>\n",
       "    </tr>\n",
       "  </thead>\n",
       "  <tbody>\n",
       "    <tr>\n",
       "      <th>Ages 19-21</th>\n",
       "      <td>69.0</td>\n",
       "      <td>3.0</td>\n",
       "    </tr>\n",
       "    <tr>\n",
       "      <th>Ages 22-24</th>\n",
       "      <td>223.0</td>\n",
       "      <td>8.0</td>\n",
       "    </tr>\n",
       "  </tbody>\n",
       "</table>\n",
       "</div>"
      ],
      "text/plain": [
       "            population  percentage\n",
       "age_group                         \n",
       "Ages 19-21        69.0         3.0\n",
       "Ages 22-24       223.0         8.0"
      ]
     },
     "execution_count": 30,
     "metadata": {},
     "output_type": "execute_result"
    }
   ],
   "source": [
    "# degree education categories:\n",
    "degree = list(map(str, range(20, 25)))\n",
    "\n",
    "degree_df = skc_df[(skc_df['is_oy']) & (skc_df['education_attained'].isin(degree))].groupby(['age_group']).sum().drop(columns = ['age', 'is_oy'])\n",
    "degree_df.rename(columns = {'person_weight': 'population'}, inplace = True)\n",
    "degree_df['percentage'] = round(degree_df['population'] / oy_pop_df['population'] * 100)\n",
    "degree_df"
   ]
  },
  {
   "cell_type": "code",
   "execution_count": 91,
   "metadata": {},
   "outputs": [
    {
     "data": {
      "text/plain": [
       "292.0"
      ]
     },
     "execution_count": 91,
     "metadata": {},
     "output_type": "execute_result"
    }
   ],
   "source": [
    "degree_tot_pop = degree_df['population'].sum()\n",
    "degree_tot_pop"
   ]
  },
  {
   "cell_type": "markdown",
   "metadata": {},
   "source": [
    "## Conclusion\n",
    "\n",
    "These figures are ready to be entered into the table however a check should be done to verify these numbers.  One check will be to ensure all percentages add to 100% and all age group populations sum to the totals appropriately.  \n",
    "\n",
    "I have a feeling some of these don't add to 100% so investigation will be necessary. "
   ]
  },
  {
   "cell_type": "code",
   "execution_count": null,
   "metadata": {},
   "outputs": [],
   "source": []
  },
  {
   "cell_type": "code",
   "execution_count": null,
   "metadata": {},
   "outputs": [],
   "source": []
  },
  {
   "cell_type": "code",
   "execution_count": null,
   "metadata": {},
   "outputs": [],
   "source": []
  },
  {
   "cell_type": "code",
   "execution_count": null,
   "metadata": {},
   "outputs": [],
   "source": []
  },
  {
   "cell_type": "code",
   "execution_count": null,
   "metadata": {},
   "outputs": [],
   "source": []
  },
  {
   "cell_type": "code",
   "execution_count": null,
   "metadata": {},
   "outputs": [],
   "source": []
  },
  {
   "cell_type": "code",
   "execution_count": null,
   "metadata": {},
   "outputs": [],
   "source": []
  },
  {
   "cell_type": "code",
   "execution_count": null,
   "metadata": {},
   "outputs": [],
   "source": []
  },
  {
   "cell_type": "code",
   "execution_count": null,
   "metadata": {},
   "outputs": [],
   "source": []
  },
  {
   "cell_type": "code",
   "execution_count": null,
   "metadata": {},
   "outputs": [],
   "source": []
  },
  {
   "cell_type": "code",
   "execution_count": null,
   "metadata": {},
   "outputs": [],
   "source": []
  },
  {
   "cell_type": "markdown",
   "metadata": {},
   "source": [
    "**Cells below was my pre-work while I was scratching this out.  Keeping it to keep track of what I've tried.  Can ignore!**"
   ]
  },
  {
   "cell_type": "markdown",
   "metadata": {},
   "source": [
    "Total Population of Ages 16-18 in SKC:"
   ]
  },
  {
   "cell_type": "code",
   "execution_count": 27,
   "metadata": {},
   "outputs": [
    {
     "data": {
      "text/plain": [
       "20635.0"
      ]
     },
     "execution_count": 27,
     "metadata": {},
     "output_type": "execute_result"
    }
   ],
   "source": [
    "tot_pop_1618 = skc_df[skc_df['age_group'] == 'Ages 16-18']['person_weight'].sum()\n",
    "tot_pop_1618"
   ]
  },
  {
   "cell_type": "markdown",
   "metadata": {},
   "source": [
    "Total Population of Ages 19-21 in SKC:"
   ]
  },
  {
   "cell_type": "code",
   "execution_count": 6,
   "metadata": {},
   "outputs": [],
   "source": [
    "tot_pop_1921 = skc_df[skc_df['age_group'] == 'Ages 19-21']['person_weight'].sum()"
   ]
  },
  {
   "cell_type": "markdown",
   "metadata": {},
   "source": [
    "Total Population of Ages 22-24 in SKC:"
   ]
  },
  {
   "cell_type": "code",
   "execution_count": 7,
   "metadata": {},
   "outputs": [],
   "source": [
    "tot_pop_2224 = skc_df[skc_df['age_group'] == 'Ages 22-24']['person_weight'].sum()"
   ]
  },
  {
   "cell_type": "markdown",
   "metadata": {},
   "source": [
    "Total Population of Ages 16-24 in SKC:"
   ]
  },
  {
   "cell_type": "code",
   "execution_count": 8,
   "metadata": {},
   "outputs": [],
   "source": [
    "tot_pop_1624 = sum([tot_pop_1618, tot_pop_1921, tot_pop_2224])"
   ]
  },
  {
   "cell_type": "markdown",
   "metadata": {},
   "source": [
    "### Opportunity Youth Row:"
   ]
  },
  {
   "cell_type": "code",
   "execution_count": 9,
   "metadata": {
    "jupyter": {
     "source_hidden": true
    }
   },
   "outputs": [],
   "source": [
    "def create_value_oy(age_group):\n",
    "    \"\"\"\n",
    "    Function returns value (float) needed for statistics table. \n",
    "    age_group (str)\n",
    "    \n",
    "    \"\"\"\n",
    "    return skc_df[(skc_df['age_group'] == age_group) & (skc_df['is_oy'])]['person_weight'].sum()"
   ]
  },
  {
   "cell_type": "code",
   "execution_count": 10,
   "metadata": {
    "jupyter": {
     "source_hidden": true
    }
   },
   "outputs": [],
   "source": [
    "def create_percentage(sub_pop, tot_pop):\n",
    "    \"\"\"\n",
    "    Function returns rounded percentage (float) needed for statistics table.\n",
    "    sub_pop (float) population you're finding the percentage of\n",
    "    tot_pop (float) total population to be in denominator\n",
    "    \"\"\"\n",
    "    return round(sub_pop / tot_pop * 100)"
   ]
  },
  {
   "cell_type": "markdown",
   "metadata": {},
   "source": [
    "Opportunity Youth Population of Ages 16-18 in SKC:"
   ]
  },
  {
   "cell_type": "code",
   "execution_count": 11,
   "metadata": {},
   "outputs": [],
   "source": [
    "oy_pop_1618 = create_value_oy('Ages 16-18')"
   ]
  },
  {
   "cell_type": "markdown",
   "metadata": {},
   "source": [
    "Opportunity Youth Percentage of Ages 16-18 in SKC:"
   ]
  },
  {
   "cell_type": "code",
   "execution_count": 12,
   "metadata": {},
   "outputs": [],
   "source": [
    "oy_pcent_1618 = create_percentage(oy_pop_1618, tot_pop_1618)"
   ]
  },
  {
   "cell_type": "markdown",
   "metadata": {},
   "source": [
    "Opportunity Youth Population of Ages 19-21 in SKC:"
   ]
  },
  {
   "cell_type": "code",
   "execution_count": 13,
   "metadata": {},
   "outputs": [],
   "source": [
    "oy_pop_1921 = create_value_oy('Ages 19-21')"
   ]
  },
  {
   "cell_type": "markdown",
   "metadata": {},
   "source": [
    "Opportunity Youth Percentage of Ages 19-21 in SKC:"
   ]
  },
  {
   "cell_type": "code",
   "execution_count": 14,
   "metadata": {},
   "outputs": [],
   "source": [
    "oy_pcent_1921 = create_percentage(oy_pop_1921, tot_pop_1921)"
   ]
  },
  {
   "cell_type": "markdown",
   "metadata": {},
   "source": [
    "Opportunity Youth Population of Ages 22-24 in SKC:"
   ]
  },
  {
   "cell_type": "code",
   "execution_count": 15,
   "metadata": {},
   "outputs": [],
   "source": [
    "oy_pop_2224 = create_value_oy('Ages 22-24')"
   ]
  },
  {
   "cell_type": "markdown",
   "metadata": {},
   "source": [
    "Opportunity Youth Percentage of Ages 22-24 in SKC:"
   ]
  },
  {
   "cell_type": "code",
   "execution_count": 16,
   "metadata": {},
   "outputs": [],
   "source": [
    "oy_pcent_2224 = create_percentage(oy_pop_2224, tot_pop_2224)"
   ]
  },
  {
   "cell_type": "markdown",
   "metadata": {},
   "source": [
    "Total Opportunity Youth Population of Ages 16-24 in SKC:"
   ]
  },
  {
   "cell_type": "code",
   "execution_count": 17,
   "metadata": {},
   "outputs": [],
   "source": [
    "oy_tot_pop_1624 = sum([oy_pop_1618, oy_pop_1921, oy_pop_2224])"
   ]
  },
  {
   "cell_type": "markdown",
   "metadata": {},
   "source": [
    "### Working without diploma row:"
   ]
  },
  {
   "cell_type": "code",
   "execution_count": 18,
   "metadata": {},
   "outputs": [],
   "source": [
    "work_wo_dip = skc_df[(skc_df['employment_status'].isin(['1', '2', '4', '5'])) & (skc_df['education_attained'] == '15')].groupby(['age_group']).sum().drop(columns = ['age', 'is_oy'])"
   ]
  },
  {
   "cell_type": "code",
   "execution_count": 19,
   "metadata": {},
   "outputs": [
    {
     "data": {
      "text/html": [
       "<div>\n",
       "<style scoped>\n",
       "    .dataframe tbody tr th:only-of-type {\n",
       "        vertical-align: middle;\n",
       "    }\n",
       "\n",
       "    .dataframe tbody tr th {\n",
       "        vertical-align: top;\n",
       "    }\n",
       "\n",
       "    .dataframe thead th {\n",
       "        text-align: right;\n",
       "    }\n",
       "</style>\n",
       "<table border=\"1\" class=\"dataframe\">\n",
       "  <thead>\n",
       "    <tr style=\"text-align: right;\">\n",
       "      <th></th>\n",
       "      <th>person_weight</th>\n",
       "    </tr>\n",
       "    <tr>\n",
       "      <th>age_group</th>\n",
       "      <th></th>\n",
       "    </tr>\n",
       "  </thead>\n",
       "  <tbody>\n",
       "    <tr>\n",
       "      <th>Ages 16-18</th>\n",
       "      <td>194.0</td>\n",
       "    </tr>\n",
       "    <tr>\n",
       "      <th>Ages 19-21</th>\n",
       "      <td>278.0</td>\n",
       "    </tr>\n",
       "    <tr>\n",
       "      <th>Ages 22-24</th>\n",
       "      <td>373.0</td>\n",
       "    </tr>\n",
       "  </tbody>\n",
       "</table>\n",
       "</div>"
      ],
      "text/plain": [
       "            person_weight\n",
       "age_group                \n",
       "Ages 16-18          194.0\n",
       "Ages 19-21          278.0\n",
       "Ages 22-24          373.0"
      ]
     },
     "execution_count": 19,
     "metadata": {},
     "output_type": "execute_result"
    }
   ],
   "source": [
    "work_wo_dip"
   ]
  },
  {
   "cell_type": "code",
   "execution_count": 20,
   "metadata": {},
   "outputs": [],
   "source": [
    "work_wo_dip.rename(columns = {'person_weight': 'count'}, inplace = True)"
   ]
  },
  {
   "cell_type": "code",
   "execution_count": 23,
   "metadata": {},
   "outputs": [],
   "source": [
    "work_wo_dip['percentage'] = round(work_wo_dip['count'] / tot_pop_1618 * 100)\n",
    "work_wo_dip"
   ]
  },
  {
   "cell_type": "code",
   "execution_count": 24,
   "metadata": {},
   "outputs": [
    {
     "data": {
      "text/html": [
       "<div>\n",
       "<style scoped>\n",
       "    .dataframe tbody tr th:only-of-type {\n",
       "        vertical-align: middle;\n",
       "    }\n",
       "\n",
       "    .dataframe tbody tr th {\n",
       "        vertical-align: top;\n",
       "    }\n",
       "\n",
       "    .dataframe thead th {\n",
       "        text-align: right;\n",
       "    }\n",
       "</style>\n",
       "<table border=\"1\" class=\"dataframe\">\n",
       "  <thead>\n",
       "    <tr style=\"text-align: right;\">\n",
       "      <th></th>\n",
       "      <th>count</th>\n",
       "      <th>percentage</th>\n",
       "    </tr>\n",
       "    <tr>\n",
       "      <th>age_group</th>\n",
       "      <th></th>\n",
       "      <th></th>\n",
       "    </tr>\n",
       "  </thead>\n",
       "  <tbody>\n",
       "    <tr>\n",
       "      <th>Ages 16-18</th>\n",
       "      <td>194.0</td>\n",
       "      <td>1.0</td>\n",
       "    </tr>\n",
       "    <tr>\n",
       "      <th>Ages 19-21</th>\n",
       "      <td>278.0</td>\n",
       "      <td>1.0</td>\n",
       "    </tr>\n",
       "    <tr>\n",
       "      <th>Ages 22-24</th>\n",
       "      <td>373.0</td>\n",
       "      <td>2.0</td>\n",
       "    </tr>\n",
       "  </tbody>\n",
       "</table>\n",
       "</div>"
      ],
      "text/plain": [
       "            count  percentage\n",
       "age_group                    \n",
       "Ages 16-18  194.0         1.0\n",
       "Ages 19-21  278.0         1.0\n",
       "Ages 22-24  373.0         2.0"
      ]
     },
     "execution_count": 24,
     "metadata": {},
     "output_type": "execute_result"
    }
   ],
   "source": [
    "work_wo_dip"
   ]
  },
  {
   "attachments": {
    "723a2d82-dd9c-4658-abfd-f39b1014e33a.png": {
     "image/png": "[encoded data removed]"
    }
   },
   "cell_type": "markdown",
   "metadata": {},
   "source": [
    "![image.png](attachment:723a2d82-dd9c-4658-abfd-f39b1014e33a.png)"
   ]
  },
  {
   "cell_type": "code",
   "execution_count": null,
   "metadata": {},
   "outputs": [],
   "source": []
  }
 ],
 "metadata": {
  "kernelspec": {
   "display_name": "Python 3 (oy-env)",
   "language": "python",
   "name": "oy-env"
  },
  "language_info": {
   "codemirror_mode": {
    "name": "ipython",
    "version": 3
   },
   "file_extension": ".py",
   "mimetype": "text/x-python",
   "name": "python",
   "nbconvert_exporter": "python",
   "pygments_lexer": "ipython3",
   "version": "3.8.1"
  }
 },
 "nbformat": 4,
 "nbformat_minor": 4
}
