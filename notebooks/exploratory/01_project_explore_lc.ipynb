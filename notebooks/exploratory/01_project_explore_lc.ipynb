{
 "cells": [
  {
   "cell_type": "markdown",
   "metadata": {},
   "source": [
    "<div align=\"center\"> \n",
    "    <h2>Scoping Project Goals:</h2>\n",
    "</div>\n",
    "\n",
    "## PROJECT GOAL\n",
    "\n",
    "The SRP would like an update on the estimated number of OY in South King County. According to a recent The Seattle Times article, the number of OY in South King County has remained steadfast at 19,000<sup>4</sup>. However, that estimation comes from a report that is over three years old. As Data Science Consultants, your task is to **inform the SRP on the current status of OY in South King County using updated data.**\n",
    "## PROJECT REQUIREMENTS\n",
    "\n",
    "At minimum, the SRP is expecting the following:"
   ]
  },
  {
   "cell_type": "markdown",
   "metadata": {},
   "source": [
    "1.  A map that visualizes which parts of King County are a part of South King County:"
   ]
  },
  {
   "cell_type": "markdown",
   "metadata": {},
   "source": [
    "- Research how to generate map of King County in python/pandas \n",
    "- Research how to manipulate map to be able to highlight South King County region\n",
    "- Look into how South King County is defined by the data we're given (and outside sources as well)\n",
    "- Work out how to input our defined parameters of what SKC is to highlight it on the map"
   ]
  },
  {
   "cell_type": "markdown",
   "metadata": {},
   "source": [
    "2.  An update of the estimated number of OY in South King County.  In addition to the estimate, be sure to include a breakdown of the count of OY by Public Use Microdata Area (PUMA) within South King County:"
   ]
  },
  {
   "cell_type": "markdown",
   "metadata": {},
   "source": [
    "- Main goal:  Get an estimate of the current number of OY in SKC.\n",
    "- Include a breakdown of this count in regards to the PUMA data.  Think about what this means:\n",
    "    - Look into what data is included in the PUMA \n",
    "    - Decide what should be included in the breakdown, e.g. other demographic information like living expenses, income etc?\n",
    "    - How do we want to break the data down?  By age group, gender, living situation/circumstance?\n",
    "    - Are there are any other interpretations of what 'including a breakdown of the count by PUMA within SKC' means?\n"
   ]
  },
  {
   "cell_type": "markdown",
   "metadata": {},
   "source": [
    "3.  An update of the table “Opportunity Youth Status by Age” located on page 2 of the 2016 report “Opportunity Youth in the Road Map Project Region”:"
   ]
  },
  {
   "cell_type": "markdown",
   "metadata": {},
   "source": [
    "- Find the 'Opportunity Youth Status by Age\" table as mentioned above \n",
    "- Update this table with results found from part 2\n",
    "    - Find the report mentioned here ('opportunity youth in the road map project region')\n",
    "    - Find the table on page 2 of the report\n",
    "    - Look into whether this table needs to be downloaded seperately or if it's part of the original data downloaded and we just need to query the table with sql...\n",
    "    - Work out how to update this table with our results (initial thoughts:  query sql to get table, turn into pd data frame then manipulate the table with pd."
   ]
  },
  {
   "cell_type": "markdown",
   "metadata": {},
   "source": [
    "4.  A visualization that highlights a trend between the 2016 report and current data:"
   ]
  },
  {
   "cell_type": "markdown",
   "metadata": {},
   "source": [
    "- Decide on appropriate plots to use:\n",
    "    - Initial thoughts:  bar graphs and line graphs would be the most appropriate to represent trend between two data sets\n",
    "    - Bar graph would be good for categorical data (e.g. age) to show side-by-side 2016 vs. now data.  x-axis has age clusters (16-18, 19-21, 22-24 for e.g.) with 2016 data one colour and 2020 another colour.  y-axis is the population counts.  Can then do this for other categories that we broke down in part 2 of the question.  \n",
    "    - Line plot may be appropriate to show any upwards/downwards trends between now and 2016... ideal for continuous data rather than categorical.  Would want to fill in the gaps between 2016 and 2020 to indicate trend, otherwise it could be misleading?  \n",
    "    - Decide as a group our visualisation standard/protocol:  use matplotlib or use seaborn?  Naming protocols etc\n",
    "- Decide on what dat we want to plot:  \n",
    "    - Obviously want to plot population differences but how do we want to categorise the data. \n",
    "    - What relationships do we want to highlight/investigate further\n",
    "- Might be also good to have a map visualisation between pop. in 2016 vs. pop. now in SKC (since we will have already worked out how to create map visualisation from pt. 1)"
   ]
  },
  {
   "cell_type": "markdown",
   "metadata": {},
   "source": [
    "## Strech Goals (optional):\n",
    "Do we maybe want to pick a stretch goal each to own individually?  \n",
    "Or perhaps we pick 1 or 2 stretch goals and work as a team on them?  \n",
    "Or alternatively we could leave it open:  if you do want to do one - do it, if you don't - dont... ??"
   ]
  },
  {
   "cell_type": "markdown",
   "metadata": {},
   "source": [
    "1. Create a choropleth map of the count of OY by PUMA within South King County:"
   ]
  },
  {
   "cell_type": "markdown",
   "metadata": {},
   "source": [
    "- Decide who might want to do this.\n",
    "- Look into how to create a choropleth map - this probably won't be too hard to do once pt 2 & 3 have been done.  It will probably be a natural extention of this problem and it will just be a matter of working out how to make choropleth maps."
   ]
  },
  {
   "cell_type": "markdown",
   "metadata": {},
   "source": [
    "2. For South King County, create a choropleth map that shows the percentage of jobs for workers age 29 or younger out of the total number of jobs per census block:"
   ]
  },
  {
   "cell_type": "markdown",
   "metadata": {},
   "source": [
    "- Decide who might want to do this.\n",
    "- Same situation as stretch 1\n",
    "- Extra data digging to find total number of jobs per census block.  \n",
    "- Interpretations of the question:  \n",
    "    - Are we finding the jobs available for 29yo- or the jobs currently filled by 29yo-?\n",
    "    - Is the total number of jobs per census block for total jobs available that are not filled for that age group?  Or total for all ages?  \n",
    "    - How is a census block defined?\n",
    "- Calculate percentages based on the above digging.  \n",
    "- Maybe good to create a 'percentage' column of this data in the relavent table/s created for previous work.  Then we can reference the same df when creating the visualisation. "
   ]
  },
  {
   "cell_type": "markdown",
   "metadata": {},
   "source": [
    "3.  Of the census blocks where jobs for workers age 29 or younger are the majority of employed people, what are a few of the **industries** that employ this group of people?"
   ]
  },
  {
   "cell_type": "markdown",
   "metadata": {},
   "source": [
    "- Decide who might want to do this\n",
    "- Data digging for info on the idustries that employ 29yo-\n",
    "    - Data from stretch 2 will be useful\n",
    "- Might be good to create a visualisation for this (bar graph - industries on x-axis)"
   ]
  },
  {
   "cell_type": "markdown",
   "metadata": {},
   "source": [
    "Utilise additional data sources to support your recommendations:  e.g. [Census Bureau APIs](https://www.census.gov/data/developers/data-sets.html), [King County Open Data](https://data.kingcounty.gov/browse?limitTo=datasets&provenance=official), or [King County GIS Open Data](https://gis-kingcounty.opendata.arcgis.com/)"
   ]
  },
  {
   "cell_type": "markdown",
   "metadata": {},
   "source": [
    "## DELIVERABLES\n",
    "\n",
    "To complete this project, you will need to turn in the following deliverables:\n",
    "\n",
    "1. A public GitHub repository with a well organized directory structure (this structure has been provided for you in this project, but will not be provided in future projects)\n",
    "2. An `environment.yml` file that contains all the necessary packages needed to recreate your conda environment.\n",
    "    - Start with the provided `environment.yml`, then as you install any additional packages be sure to [export](https://docs.conda.io/projects/conda/en/latest/user-guide/tasks/manage-environments.html#exporting-the-environment-yml-file) the new version and commit the changes in git.\n",
    "    - For Windows users, generate a `windows.yml` based on the provided `windows.yml`\n",
    "    - For Linux users, generate a `linux.yml` based on the provided `linux.yml`\n",
    "3. A standalone `src/` directory that stores all relevant source code.\n",
    "    - Although you may not be able to achieve this goal in Mod 1, we encourage you to package code into .py files and store them in src, then import the functions into the appropriate notebooks. Be ware of premature optimization, however.  Don't try to package your code before it works.\n",
    "    - All functions have docstrings that act as [professional-quality documentation](http://google.github.io/styleguide/pyguide.html#381-docstrings).\n",
    "    - [Well documented](https://www.sqlstyle.guide/) SQL queries with appropriate single-line or multiline comments.\n",
    "4. A user-focused `README.md` file that explains your process, methodology and findings.\n",
    "    - Provide a directory of your repository so a visitor will know where to look for your report notebook, your source code, etc. \n",
    "    - Take the time to make sure that you craft your story well, and clearly explain your process and findings in a way that clearly shows both your technical expertise and your ability to communicate your results!\n",
    "    - Begin with framing questions, describe your data source, include relevant, well labeled visualizations that support your conclusions, which come at the end.\n",
    "5. A record of your workflow stored in `notebooks/exploratory`.  Don't be afraid to leave in error messages, so you know what didn't work!\n",
    "6. One final Jupyter Notebook file stored in `notebooks/report` that focuses on visualization and presentation.\n",
    "    - The very beginning of the notebook contains a description of the purpose of the notebook.\n",
    "       - This is helpful for your future self and anyone of your colleagues that needs to view your notebook. Without this context, you’re implicitly asking your peers to invest a lot of energy to help solve your problem. Help them by enabling them to jump into your project by providing them the purpose of this Jupyter Notebook.\n",
    "    - Explanation of the data sources and where one can retrieve them\n",
    "        - Whenever possible, link to the corresponding data dictionary\n",
    "    - We encourage you to import custom functions and classes from Python modules and not create them directly in the notebook.  As soon as you have a working function in one of your exploratory notebooks, copy it over to `src` so it is reusable.\n",
    "    - Much of the content in the report will be shared with the README.\n",
    "8. An \"Executive Summary\" Keynote/PowerPoint/Google Slide presentation (delivered as a PDF export) that explains what you have found for the SRP. The presentation that accompanies that deck should be 4-5 minutes, so use your space wisely.\n",
    "    - Make sure to also add and commit this file as presentation.pdf of your non-technical presentation to your repository with a file name of `reports/presentation.pdf`.\n",
    "    - Contain between 5-10 professional quality slides detailing:\n",
    "       - A high-level overview of your methodology\n",
    "       - The results you’ve uncovered\n",
    "       - Any real-world recommendations you would like to make based on your findings (ask yourself--why should the executive team care about what you found? How can your findings help the company/stakeholder?)\n",
    "       - Avoid technical jargon and explain results in a clear, actionable way for non-technical audiences.\n",
    "    - All visualizations included in this presentation should also be exported as image files (e.g. with `plt.savefig`, not by taking a screenshot) and saved under `reports/figures/`\n",
    "9. Be sure to generate at least 3 high quality, well-labeled visualizations that support your conclusions. There should be a clear takeaway from each. These visualizations will reappear in the README, jupyter notebook report, and presentation deck.\n",
    "\n",
    "## Citations\n",
    "\n",
    "<sup>1</sup> Yohalem, N., Cooley, S. 2016. “Opportunity Youth in the Road Map Project Region”. Community Center for Education Results. Available at: https://bit.ly/2P2XRF3.\n",
    "\n",
    "<sup>2</sup> Anderson, T., Braga, B., Derrick-Mills, T., Dodkowitz, A., Peters, E., Runes, C., and Winkler, M. 2019. “New Insights into the Back on Track Model’s Effects on Opportunity Youth Outcomes”. Urban Institute. Available at: https://bit.ly/2BuCLr1.\n",
    "\n",
    "<sup>3</sup> Seattle Region Partnership. 2016. “King County Opportunity Youth Overview: Demographics of opportunity youth and systemic barriers to employment”. Available at: https://bit.ly/2oRGz37.\n",
    "\n",
    "<sup>4</sup> Morton, N. 2019. “Nearly 19,000 youth in King County are neither working nor in school. How one Seattle nonprofit is changing that.” The Seattle Times. Available at: https://bit.ly/2W5EufR."
   ]
  },
  {
   "cell_type": "code",
   "execution_count": null,
   "metadata": {},
   "outputs": [],
   "source": []
  }
 ],
 "metadata": {
  "kernelspec": {
   "display_name": "Python 3 (oy-env)",
   "language": "python",
   "name": "oy-env"
  },
  "language_info": {
   "codemirror_mode": {
    "name": "ipython",
    "version": 3
   },
   "file_extension": ".py",
   "mimetype": "text/x-python",
   "name": "python",
   "nbconvert_exporter": "python",
   "pygments_lexer": "ipython3",
   "version": "3.8.1"
  }
 },
 "nbformat": 4,
 "nbformat_minor": 4
}
