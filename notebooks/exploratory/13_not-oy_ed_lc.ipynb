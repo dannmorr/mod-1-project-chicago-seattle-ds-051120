{
 "cells": [
  {
   "cell_type": "markdown",
   "metadata": {},
   "source": [
    "## Education data on the non-OY Population to compare with OY:\n",
    "This is the most current and accurate version of the data"
   ]
  },
  {
   "cell_type": "code",
   "execution_count": 1,
   "metadata": {},
   "outputs": [],
   "source": [
    "%load_ext autoreload\n",
    "%autoreload 2"
   ]
  },
  {
   "cell_type": "code",
   "execution_count": 47,
   "metadata": {},
   "outputs": [],
   "source": [
    "import sys\n",
    "import os\n",
    "\n",
    "module_path = os.path.abspath(os.path.join(os.pardir, os.pardir))\n",
    "if module_path not in sys.path:\n",
    "    sys.path.append(module_path)"
   ]
  },
  {
   "cell_type": "code",
   "execution_count": 48,
   "metadata": {},
   "outputs": [],
   "source": [
    "from src.data_cleaning import data_cleaning as dc"
   ]
  },
  {
   "cell_type": "code",
   "execution_count": 15,
   "metadata": {},
   "outputs": [
    {
     "data": {
      "text/html": [
       "<div>\n",
       "<style scoped>\n",
       "    .dataframe tbody tr th:only-of-type {\n",
       "        vertical-align: middle;\n",
       "    }\n",
       "\n",
       "    .dataframe tbody tr th {\n",
       "        vertical-align: top;\n",
       "    }\n",
       "\n",
       "    .dataframe thead th {\n",
       "        text-align: right;\n",
       "    }\n",
       "</style>\n",
       "<table border=\"1\" class=\"dataframe\">\n",
       "  <thead>\n",
       "    <tr style=\"text-align: right;\">\n",
       "      <th></th>\n",
       "      <th>id</th>\n",
       "      <th>age</th>\n",
       "      <th>sex</th>\n",
       "      <th>person_weight</th>\n",
       "      <th>puma</th>\n",
       "      <th>school_enrollment</th>\n",
       "      <th>education_attained</th>\n",
       "      <th>employment_status</th>\n",
       "      <th>avail_for_work</th>\n",
       "      <th>look_for_work</th>\n",
       "      <th>absent_from_work</th>\n",
       "      <th>layoff</th>\n",
       "      <th>age_group</th>\n",
       "      <th>is_oy</th>\n",
       "    </tr>\n",
       "  </thead>\n",
       "  <tbody>\n",
       "    <tr>\n",
       "      <th>32</th>\n",
       "      <td>2013000007063</td>\n",
       "      <td>19.0</td>\n",
       "      <td>1</td>\n",
       "      <td>30.0</td>\n",
       "      <td>11612</td>\n",
       "      <td>2</td>\n",
       "      <td>18</td>\n",
       "      <td>6</td>\n",
       "      <td>5</td>\n",
       "      <td>2</td>\n",
       "      <td>2</td>\n",
       "      <td>2</td>\n",
       "      <td>Ages 19-21</td>\n",
       "      <td>False</td>\n",
       "    </tr>\n",
       "    <tr>\n",
       "      <th>36</th>\n",
       "      <td>2013000008046</td>\n",
       "      <td>17.0</td>\n",
       "      <td>2</td>\n",
       "      <td>36.0</td>\n",
       "      <td>11613</td>\n",
       "      <td>2</td>\n",
       "      <td>13</td>\n",
       "      <td>6</td>\n",
       "      <td>5</td>\n",
       "      <td>2</td>\n",
       "      <td>2</td>\n",
       "      <td>2</td>\n",
       "      <td>Ages 16-18</td>\n",
       "      <td>False</td>\n",
       "    </tr>\n",
       "    <tr>\n",
       "      <th>48</th>\n",
       "      <td>2013000011255</td>\n",
       "      <td>17.0</td>\n",
       "      <td>2</td>\n",
       "      <td>13.0</td>\n",
       "      <td>11614</td>\n",
       "      <td>2</td>\n",
       "      <td>12</td>\n",
       "      <td>6</td>\n",
       "      <td>5</td>\n",
       "      <td>2</td>\n",
       "      <td>2</td>\n",
       "      <td>2</td>\n",
       "      <td>Ages 16-18</td>\n",
       "      <td>False</td>\n",
       "    </tr>\n",
       "    <tr>\n",
       "      <th>54</th>\n",
       "      <td>2013000012970</td>\n",
       "      <td>21.0</td>\n",
       "      <td>2</td>\n",
       "      <td>29.0</td>\n",
       "      <td>11612</td>\n",
       "      <td>3</td>\n",
       "      <td>18</td>\n",
       "      <td>6</td>\n",
       "      <td>5</td>\n",
       "      <td>2</td>\n",
       "      <td>2</td>\n",
       "      <td>2</td>\n",
       "      <td>Ages 19-21</td>\n",
       "      <td>False</td>\n",
       "    </tr>\n",
       "    <tr>\n",
       "      <th>57</th>\n",
       "      <td>2013000013525</td>\n",
       "      <td>18.0</td>\n",
       "      <td>2</td>\n",
       "      <td>24.0</td>\n",
       "      <td>11613</td>\n",
       "      <td>2</td>\n",
       "      <td>15</td>\n",
       "      <td>6</td>\n",
       "      <td>5</td>\n",
       "      <td>2</td>\n",
       "      <td>2</td>\n",
       "      <td>2</td>\n",
       "      <td>Ages 16-18</td>\n",
       "      <td>False</td>\n",
       "    </tr>\n",
       "  </tbody>\n",
       "</table>\n",
       "</div>"
      ],
      "text/plain": [
       "               id   age sex  person_weight   puma school_enrollment  \\\n",
       "32  2013000007063  19.0   1           30.0  11612                 2   \n",
       "36  2013000008046  17.0   2           36.0  11613                 2   \n",
       "48  2013000011255  17.0   2           13.0  11614                 2   \n",
       "54  2013000012970  21.0   2           29.0  11612                 3   \n",
       "57  2013000013525  18.0   2           24.0  11613                 2   \n",
       "\n",
       "   education_attained employment_status avail_for_work look_for_work  \\\n",
       "32                 18                 6              5             2   \n",
       "36                 13                 6              5             2   \n",
       "48                 12                 6              5             2   \n",
       "54                 18                 6              5             2   \n",
       "57                 15                 6              5             2   \n",
       "\n",
       "   absent_from_work layoff   age_group  is_oy  \n",
       "32                2      2  Ages 19-21  False  \n",
       "36                2      2  Ages 16-18  False  \n",
       "48                2      2  Ages 16-18  False  \n",
       "54                2      2  Ages 19-21  False  \n",
       "57                2      2  Ages 16-18  False  "
      ]
     },
     "execution_count": 15,
     "metadata": {},
     "output_type": "execute_result"
    }
   ],
   "source": [
    "skc_df = dc.final_skc_df()\n",
    "skc_df.head()"
   ]
  },
  {
   "cell_type": "markdown",
   "metadata": {},
   "source": [
    "### Create a df for the non-OY Population:"
   ]
  },
  {
   "cell_type": "code",
   "execution_count": 16,
   "metadata": {},
   "outputs": [
    {
     "data": {
      "text/html": [
       "<div>\n",
       "<style scoped>\n",
       "    .dataframe tbody tr th:only-of-type {\n",
       "        vertical-align: middle;\n",
       "    }\n",
       "\n",
       "    .dataframe tbody tr th {\n",
       "        vertical-align: top;\n",
       "    }\n",
       "\n",
       "    .dataframe thead th {\n",
       "        text-align: right;\n",
       "    }\n",
       "</style>\n",
       "<table border=\"1\" class=\"dataframe\">\n",
       "  <thead>\n",
       "    <tr style=\"text-align: right;\">\n",
       "      <th></th>\n",
       "      <th>id</th>\n",
       "      <th>age</th>\n",
       "      <th>sex</th>\n",
       "      <th>person_weight</th>\n",
       "      <th>puma</th>\n",
       "      <th>school_enrollment</th>\n",
       "      <th>education_attained</th>\n",
       "      <th>employment_status</th>\n",
       "      <th>avail_for_work</th>\n",
       "      <th>look_for_work</th>\n",
       "      <th>absent_from_work</th>\n",
       "      <th>layoff</th>\n",
       "      <th>age_group</th>\n",
       "      <th>is_oy</th>\n",
       "    </tr>\n",
       "  </thead>\n",
       "  <tbody>\n",
       "    <tr>\n",
       "      <th>32</th>\n",
       "      <td>2013000007063</td>\n",
       "      <td>19.0</td>\n",
       "      <td>1</td>\n",
       "      <td>30.0</td>\n",
       "      <td>11612</td>\n",
       "      <td>2</td>\n",
       "      <td>18</td>\n",
       "      <td>6</td>\n",
       "      <td>5</td>\n",
       "      <td>2</td>\n",
       "      <td>2</td>\n",
       "      <td>2</td>\n",
       "      <td>Ages 19-21</td>\n",
       "      <td>False</td>\n",
       "    </tr>\n",
       "    <tr>\n",
       "      <th>36</th>\n",
       "      <td>2013000008046</td>\n",
       "      <td>17.0</td>\n",
       "      <td>2</td>\n",
       "      <td>36.0</td>\n",
       "      <td>11613</td>\n",
       "      <td>2</td>\n",
       "      <td>13</td>\n",
       "      <td>6</td>\n",
       "      <td>5</td>\n",
       "      <td>2</td>\n",
       "      <td>2</td>\n",
       "      <td>2</td>\n",
       "      <td>Ages 16-18</td>\n",
       "      <td>False</td>\n",
       "    </tr>\n",
       "    <tr>\n",
       "      <th>48</th>\n",
       "      <td>2013000011255</td>\n",
       "      <td>17.0</td>\n",
       "      <td>2</td>\n",
       "      <td>13.0</td>\n",
       "      <td>11614</td>\n",
       "      <td>2</td>\n",
       "      <td>12</td>\n",
       "      <td>6</td>\n",
       "      <td>5</td>\n",
       "      <td>2</td>\n",
       "      <td>2</td>\n",
       "      <td>2</td>\n",
       "      <td>Ages 16-18</td>\n",
       "      <td>False</td>\n",
       "    </tr>\n",
       "    <tr>\n",
       "      <th>54</th>\n",
       "      <td>2013000012970</td>\n",
       "      <td>21.0</td>\n",
       "      <td>2</td>\n",
       "      <td>29.0</td>\n",
       "      <td>11612</td>\n",
       "      <td>3</td>\n",
       "      <td>18</td>\n",
       "      <td>6</td>\n",
       "      <td>5</td>\n",
       "      <td>2</td>\n",
       "      <td>2</td>\n",
       "      <td>2</td>\n",
       "      <td>Ages 19-21</td>\n",
       "      <td>False</td>\n",
       "    </tr>\n",
       "    <tr>\n",
       "      <th>57</th>\n",
       "      <td>2013000013525</td>\n",
       "      <td>18.0</td>\n",
       "      <td>2</td>\n",
       "      <td>24.0</td>\n",
       "      <td>11613</td>\n",
       "      <td>2</td>\n",
       "      <td>15</td>\n",
       "      <td>6</td>\n",
       "      <td>5</td>\n",
       "      <td>2</td>\n",
       "      <td>2</td>\n",
       "      <td>2</td>\n",
       "      <td>Ages 16-18</td>\n",
       "      <td>False</td>\n",
       "    </tr>\n",
       "  </tbody>\n",
       "</table>\n",
       "</div>"
      ],
      "text/plain": [
       "               id   age sex  person_weight   puma school_enrollment  \\\n",
       "32  2013000007063  19.0   1           30.0  11612                 2   \n",
       "36  2013000008046  17.0   2           36.0  11613                 2   \n",
       "48  2013000011255  17.0   2           13.0  11614                 2   \n",
       "54  2013000012970  21.0   2           29.0  11612                 3   \n",
       "57  2013000013525  18.0   2           24.0  11613                 2   \n",
       "\n",
       "   education_attained employment_status avail_for_work look_for_work  \\\n",
       "32                 18                 6              5             2   \n",
       "36                 13                 6              5             2   \n",
       "48                 12                 6              5             2   \n",
       "54                 18                 6              5             2   \n",
       "57                 15                 6              5             2   \n",
       "\n",
       "   absent_from_work layoff   age_group  is_oy  \n",
       "32                2      2  Ages 19-21  False  \n",
       "36                2      2  Ages 16-18  False  \n",
       "48                2      2  Ages 16-18  False  \n",
       "54                2      2  Ages 19-21  False  \n",
       "57                2      2  Ages 16-18  False  "
      ]
     },
     "execution_count": 16,
     "metadata": {},
     "output_type": "execute_result"
    }
   ],
   "source": [
    "not_oy_df = skc_df[skc_df['is_oy'] == False]\n",
    "not_oy_df.head()"
   ]
  },
  {
   "cell_type": "markdown",
   "metadata": {},
   "source": [
    "### Find the number of non-OY with no diploma:"
   ]
  },
  {
   "cell_type": "code",
   "execution_count": 19,
   "metadata": {},
   "outputs": [
    {
     "data": {
      "text/html": [
       "<div>\n",
       "<style scoped>\n",
       "    .dataframe tbody tr th:only-of-type {\n",
       "        vertical-align: middle;\n",
       "    }\n",
       "\n",
       "    .dataframe tbody tr th {\n",
       "        vertical-align: top;\n",
       "    }\n",
       "\n",
       "    .dataframe thead th {\n",
       "        text-align: right;\n",
       "    }\n",
       "</style>\n",
       "<table border=\"1\" class=\"dataframe\">\n",
       "  <thead>\n",
       "    <tr style=\"text-align: right;\">\n",
       "      <th></th>\n",
       "      <th>id</th>\n",
       "      <th>age</th>\n",
       "      <th>sex</th>\n",
       "      <th>person_weight</th>\n",
       "      <th>puma</th>\n",
       "      <th>school_enrollment</th>\n",
       "      <th>education_attained</th>\n",
       "      <th>employment_status</th>\n",
       "      <th>avail_for_work</th>\n",
       "      <th>look_for_work</th>\n",
       "      <th>absent_from_work</th>\n",
       "      <th>layoff</th>\n",
       "      <th>age_group</th>\n",
       "      <th>is_oy</th>\n",
       "    </tr>\n",
       "  </thead>\n",
       "  <tbody>\n",
       "    <tr>\n",
       "      <th>36</th>\n",
       "      <td>2013000008046</td>\n",
       "      <td>17.0</td>\n",
       "      <td>2</td>\n",
       "      <td>36.0</td>\n",
       "      <td>11613</td>\n",
       "      <td>2</td>\n",
       "      <td>13</td>\n",
       "      <td>6</td>\n",
       "      <td>5</td>\n",
       "      <td>2</td>\n",
       "      <td>2</td>\n",
       "      <td>2</td>\n",
       "      <td>Ages 16-18</td>\n",
       "      <td>False</td>\n",
       "    </tr>\n",
       "    <tr>\n",
       "      <th>48</th>\n",
       "      <td>2013000011255</td>\n",
       "      <td>17.0</td>\n",
       "      <td>2</td>\n",
       "      <td>13.0</td>\n",
       "      <td>11614</td>\n",
       "      <td>2</td>\n",
       "      <td>12</td>\n",
       "      <td>6</td>\n",
       "      <td>5</td>\n",
       "      <td>2</td>\n",
       "      <td>2</td>\n",
       "      <td>2</td>\n",
       "      <td>Ages 16-18</td>\n",
       "      <td>False</td>\n",
       "    </tr>\n",
       "    <tr>\n",
       "      <th>57</th>\n",
       "      <td>2013000013525</td>\n",
       "      <td>18.0</td>\n",
       "      <td>2</td>\n",
       "      <td>24.0</td>\n",
       "      <td>11613</td>\n",
       "      <td>2</td>\n",
       "      <td>15</td>\n",
       "      <td>6</td>\n",
       "      <td>5</td>\n",
       "      <td>2</td>\n",
       "      <td>2</td>\n",
       "      <td>2</td>\n",
       "      <td>Ages 16-18</td>\n",
       "      <td>False</td>\n",
       "    </tr>\n",
       "    <tr>\n",
       "      <th>159</th>\n",
       "      <td>2013000032921</td>\n",
       "      <td>18.0</td>\n",
       "      <td>1</td>\n",
       "      <td>16.0</td>\n",
       "      <td>11615</td>\n",
       "      <td>2</td>\n",
       "      <td>13</td>\n",
       "      <td>6</td>\n",
       "      <td>5</td>\n",
       "      <td>2</td>\n",
       "      <td>2</td>\n",
       "      <td>2</td>\n",
       "      <td>Ages 16-18</td>\n",
       "      <td>False</td>\n",
       "    </tr>\n",
       "    <tr>\n",
       "      <th>162</th>\n",
       "      <td>2013000033426</td>\n",
       "      <td>21.0</td>\n",
       "      <td>1</td>\n",
       "      <td>40.0</td>\n",
       "      <td>11614</td>\n",
       "      <td>1</td>\n",
       "      <td>14</td>\n",
       "      <td>1</td>\n",
       "      <td>5</td>\n",
       "      <td>3</td>\n",
       "      <td>3</td>\n",
       "      <td>3</td>\n",
       "      <td>Ages 19-21</td>\n",
       "      <td>False</td>\n",
       "    </tr>\n",
       "  </tbody>\n",
       "</table>\n",
       "</div>"
      ],
      "text/plain": [
       "                id   age sex  person_weight   puma school_enrollment  \\\n",
       "36   2013000008046  17.0   2           36.0  11613                 2   \n",
       "48   2013000011255  17.0   2           13.0  11614                 2   \n",
       "57   2013000013525  18.0   2           24.0  11613                 2   \n",
       "159  2013000032921  18.0   1           16.0  11615                 2   \n",
       "162  2013000033426  21.0   1           40.0  11614                 1   \n",
       "\n",
       "    education_attained employment_status avail_for_work look_for_work  \\\n",
       "36                  13                 6              5             2   \n",
       "48                  12                 6              5             2   \n",
       "57                  15                 6              5             2   \n",
       "159                 13                 6              5             2   \n",
       "162                 14                 1              5             3   \n",
       "\n",
       "    absent_from_work layoff   age_group  is_oy  \n",
       "36                 2      2  Ages 16-18  False  \n",
       "48                 2      2  Ages 16-18  False  \n",
       "57                 2      2  Ages 16-18  False  \n",
       "159                2      2  Ages 16-18  False  \n",
       "162                3      3  Ages 19-21  False  "
      ]
     },
     "execution_count": 19,
     "metadata": {},
     "output_type": "execute_result"
    }
   ],
   "source": [
    "# No diploma codes:\n",
    "no_dip = ['bb'] + list(map(dc.pad, range(1, 16)))\n",
    "\n",
    "no_dip_notoy_df = not_oy_df[not_oy_df['education_attained'].isin(no_dip)]\n",
    "no_dip_notoy_df.head()"
   ]
  },
  {
   "cell_type": "markdown",
   "metadata": {},
   "source": [
    "Thus, the number of non-oy without a diploma are:"
   ]
  },
  {
   "cell_type": "code",
   "execution_count": 20,
   "metadata": {},
   "outputs": [
    {
     "data": {
      "text/plain": [
       "18822.0"
      ]
     },
     "execution_count": 20,
     "metadata": {},
     "output_type": "execute_result"
    }
   ],
   "source": [
    "no_dip_notoy_df['person_weight'].sum()"
   ]
  },
  {
   "cell_type": "markdown",
   "metadata": {},
   "source": [
    "Breaking this down into the 3 age groups:"
   ]
  },
  {
   "cell_type": "code",
   "execution_count": 21,
   "metadata": {},
   "outputs": [
    {
     "data": {
      "text/plain": [
       "15997.0"
      ]
     },
     "execution_count": 21,
     "metadata": {},
     "output_type": "execute_result"
    }
   ],
   "source": [
    "# 16-18:\n",
    "no_dip_notoy_df[no_dip_notoy_df['age_group'] == 'Ages 16-18']['person_weight'].sum()"
   ]
  },
  {
   "cell_type": "code",
   "execution_count": 22,
   "metadata": {},
   "outputs": [
    {
     "data": {
      "text/plain": [
       "1692.0"
      ]
     },
     "execution_count": 22,
     "metadata": {},
     "output_type": "execute_result"
    }
   ],
   "source": [
    "# 19-21:\n",
    "no_dip_notoy_df[no_dip_notoy_df['age_group'] == 'Ages 19-21']['person_weight'].sum()"
   ]
  },
  {
   "cell_type": "code",
   "execution_count": 23,
   "metadata": {},
   "outputs": [
    {
     "data": {
      "text/plain": [
       "1133.0"
      ]
     },
     "execution_count": 23,
     "metadata": {},
     "output_type": "execute_result"
    }
   ],
   "source": [
    "# 22-24:\n",
    "no_dip_notoy_df[no_dip_notoy_df['age_group'] == 'Ages 22-24']['person_weight'].sum()"
   ]
  },
  {
   "cell_type": "markdown",
   "metadata": {},
   "source": [
    "### Find the number of non-OY with a Diploma or GED:"
   ]
  },
  {
   "cell_type": "code",
   "execution_count": 26,
   "metadata": {},
   "outputs": [
    {
     "data": {
      "text/html": [
       "<div>\n",
       "<style scoped>\n",
       "    .dataframe tbody tr th:only-of-type {\n",
       "        vertical-align: middle;\n",
       "    }\n",
       "\n",
       "    .dataframe tbody tr th {\n",
       "        vertical-align: top;\n",
       "    }\n",
       "\n",
       "    .dataframe thead th {\n",
       "        text-align: right;\n",
       "    }\n",
       "</style>\n",
       "<table border=\"1\" class=\"dataframe\">\n",
       "  <thead>\n",
       "    <tr style=\"text-align: right;\">\n",
       "      <th></th>\n",
       "      <th>id</th>\n",
       "      <th>age</th>\n",
       "      <th>sex</th>\n",
       "      <th>person_weight</th>\n",
       "      <th>puma</th>\n",
       "      <th>school_enrollment</th>\n",
       "      <th>education_attained</th>\n",
       "      <th>employment_status</th>\n",
       "      <th>avail_for_work</th>\n",
       "      <th>look_for_work</th>\n",
       "      <th>absent_from_work</th>\n",
       "      <th>layoff</th>\n",
       "      <th>age_group</th>\n",
       "      <th>is_oy</th>\n",
       "    </tr>\n",
       "  </thead>\n",
       "  <tbody>\n",
       "    <tr>\n",
       "      <th>158</th>\n",
       "      <td>2013000032921</td>\n",
       "      <td>21.0</td>\n",
       "      <td>1</td>\n",
       "      <td>17.0</td>\n",
       "      <td>11615</td>\n",
       "      <td>1</td>\n",
       "      <td>16</td>\n",
       "      <td>1</td>\n",
       "      <td>5</td>\n",
       "      <td>3</td>\n",
       "      <td>3</td>\n",
       "      <td>3</td>\n",
       "      <td>Ages 19-21</td>\n",
       "      <td>False</td>\n",
       "    </tr>\n",
       "    <tr>\n",
       "      <th>224</th>\n",
       "      <td>2013000047506</td>\n",
       "      <td>24.0</td>\n",
       "      <td>2</td>\n",
       "      <td>5.0</td>\n",
       "      <td>11615</td>\n",
       "      <td>1</td>\n",
       "      <td>16</td>\n",
       "      <td>1</td>\n",
       "      <td>5</td>\n",
       "      <td>3</td>\n",
       "      <td>3</td>\n",
       "      <td>3</td>\n",
       "      <td>Ages 22-24</td>\n",
       "      <td>False</td>\n",
       "    </tr>\n",
       "    <tr>\n",
       "      <th>270</th>\n",
       "      <td>2013000056099</td>\n",
       "      <td>24.0</td>\n",
       "      <td>1</td>\n",
       "      <td>16.0</td>\n",
       "      <td>11613</td>\n",
       "      <td>1</td>\n",
       "      <td>17</td>\n",
       "      <td>1</td>\n",
       "      <td>5</td>\n",
       "      <td>2</td>\n",
       "      <td>2</td>\n",
       "      <td>2</td>\n",
       "      <td>Ages 22-24</td>\n",
       "      <td>False</td>\n",
       "    </tr>\n",
       "    <tr>\n",
       "      <th>348</th>\n",
       "      <td>2013000069409</td>\n",
       "      <td>17.0</td>\n",
       "      <td>1</td>\n",
       "      <td>9.0</td>\n",
       "      <td>11614</td>\n",
       "      <td>2</td>\n",
       "      <td>16</td>\n",
       "      <td>6</td>\n",
       "      <td>5</td>\n",
       "      <td>2</td>\n",
       "      <td>2</td>\n",
       "      <td>2</td>\n",
       "      <td>Ages 16-18</td>\n",
       "      <td>False</td>\n",
       "    </tr>\n",
       "    <tr>\n",
       "      <th>516</th>\n",
       "      <td>2013000100470</td>\n",
       "      <td>21.0</td>\n",
       "      <td>2</td>\n",
       "      <td>13.0</td>\n",
       "      <td>11613</td>\n",
       "      <td>1</td>\n",
       "      <td>16</td>\n",
       "      <td>1</td>\n",
       "      <td>5</td>\n",
       "      <td>3</td>\n",
       "      <td>3</td>\n",
       "      <td>3</td>\n",
       "      <td>Ages 19-21</td>\n",
       "      <td>False</td>\n",
       "    </tr>\n",
       "  </tbody>\n",
       "</table>\n",
       "</div>"
      ],
      "text/plain": [
       "                id   age sex  person_weight   puma school_enrollment  \\\n",
       "158  2013000032921  21.0   1           17.0  11615                 1   \n",
       "224  2013000047506  24.0   2            5.0  11615                 1   \n",
       "270  2013000056099  24.0   1           16.0  11613                 1   \n",
       "348  2013000069409  17.0   1            9.0  11614                 2   \n",
       "516  2013000100470  21.0   2           13.0  11613                 1   \n",
       "\n",
       "    education_attained employment_status avail_for_work look_for_work  \\\n",
       "158                 16                 1              5             3   \n",
       "224                 16                 1              5             3   \n",
       "270                 17                 1              5             2   \n",
       "348                 16                 6              5             2   \n",
       "516                 16                 1              5             3   \n",
       "\n",
       "    absent_from_work layoff   age_group  is_oy  \n",
       "158                3      3  Ages 19-21  False  \n",
       "224                3      3  Ages 22-24  False  \n",
       "270                2      2  Ages 22-24  False  \n",
       "348                2      2  Ages 16-18  False  \n",
       "516                3      3  Ages 19-21  False  "
      ]
     },
     "execution_count": 26,
     "metadata": {},
     "output_type": "execute_result"
    }
   ],
   "source": [
    "# Find values for people with diploma/ged\n",
    "ged_codes = ['16', '17']\n",
    "\n",
    "ged_notoy_df = not_oy_df[not_oy_df['education_attained'].isin(ged_codes)]\n",
    "ged_notoy_df.head()"
   ]
  },
  {
   "cell_type": "markdown",
   "metadata": {},
   "source": [
    "Thus, the number of non-oy with a diploma or ged is:"
   ]
  },
  {
   "cell_type": "code",
   "execution_count": 27,
   "metadata": {},
   "outputs": [
    {
     "data": {
      "text/plain": [
       "12965.0"
      ]
     },
     "execution_count": 27,
     "metadata": {},
     "output_type": "execute_result"
    }
   ],
   "source": [
    "ged_notoy_df['person_weight'].sum()"
   ]
  },
  {
   "cell_type": "markdown",
   "metadata": {},
   "source": [
    "Breaking this down into the 3 age groups:"
   ]
  },
  {
   "cell_type": "code",
   "execution_count": 28,
   "metadata": {},
   "outputs": [
    {
     "data": {
      "text/plain": [
       "2211.0"
      ]
     },
     "execution_count": 28,
     "metadata": {},
     "output_type": "execute_result"
    }
   ],
   "source": [
    "# 16-18:\n",
    "ged_notoy_df[ged_notoy_df['age_group'] == 'Ages 16-18']['person_weight'].sum()"
   ]
  },
  {
   "cell_type": "code",
   "execution_count": 29,
   "metadata": {},
   "outputs": [
    {
     "data": {
      "text/plain": [
       "5007.0"
      ]
     },
     "execution_count": 29,
     "metadata": {},
     "output_type": "execute_result"
    }
   ],
   "source": [
    "# 19-21:\n",
    "ged_notoy_df[ged_notoy_df['age_group'] == 'Ages 19-21']['person_weight'].sum()"
   ]
  },
  {
   "cell_type": "code",
   "execution_count": 30,
   "metadata": {},
   "outputs": [
    {
     "data": {
      "text/plain": [
       "5747.0"
      ]
     },
     "execution_count": 30,
     "metadata": {},
     "output_type": "execute_result"
    }
   ],
   "source": [
    "# 22-24:\n",
    "ged_notoy_df[ged_notoy_df['age_group'] == 'Ages 22-24']['person_weight'].sum()"
   ]
  },
  {
   "cell_type": "markdown",
   "metadata": {},
   "source": [
    "### Find the number of non-OY with some college but no degree:"
   ]
  },
  {
   "cell_type": "code",
   "execution_count": 35,
   "metadata": {},
   "outputs": [
    {
     "data": {
      "text/html": [
       "<div>\n",
       "<style scoped>\n",
       "    .dataframe tbody tr th:only-of-type {\n",
       "        vertical-align: middle;\n",
       "    }\n",
       "\n",
       "    .dataframe tbody tr th {\n",
       "        vertical-align: top;\n",
       "    }\n",
       "\n",
       "    .dataframe thead th {\n",
       "        text-align: right;\n",
       "    }\n",
       "</style>\n",
       "<table border=\"1\" class=\"dataframe\">\n",
       "  <thead>\n",
       "    <tr style=\"text-align: right;\">\n",
       "      <th></th>\n",
       "      <th>id</th>\n",
       "      <th>age</th>\n",
       "      <th>sex</th>\n",
       "      <th>person_weight</th>\n",
       "      <th>puma</th>\n",
       "      <th>school_enrollment</th>\n",
       "      <th>education_attained</th>\n",
       "      <th>employment_status</th>\n",
       "      <th>avail_for_work</th>\n",
       "      <th>look_for_work</th>\n",
       "      <th>absent_from_work</th>\n",
       "      <th>layoff</th>\n",
       "      <th>age_group</th>\n",
       "      <th>is_oy</th>\n",
       "    </tr>\n",
       "  </thead>\n",
       "  <tbody>\n",
       "    <tr>\n",
       "      <th>32</th>\n",
       "      <td>2013000007063</td>\n",
       "      <td>19.0</td>\n",
       "      <td>1</td>\n",
       "      <td>30.0</td>\n",
       "      <td>11612</td>\n",
       "      <td>2</td>\n",
       "      <td>18</td>\n",
       "      <td>6</td>\n",
       "      <td>5</td>\n",
       "      <td>2</td>\n",
       "      <td>2</td>\n",
       "      <td>2</td>\n",
       "      <td>Ages 19-21</td>\n",
       "      <td>False</td>\n",
       "    </tr>\n",
       "    <tr>\n",
       "      <th>54</th>\n",
       "      <td>2013000012970</td>\n",
       "      <td>21.0</td>\n",
       "      <td>2</td>\n",
       "      <td>29.0</td>\n",
       "      <td>11612</td>\n",
       "      <td>3</td>\n",
       "      <td>18</td>\n",
       "      <td>6</td>\n",
       "      <td>5</td>\n",
       "      <td>2</td>\n",
       "      <td>2</td>\n",
       "      <td>2</td>\n",
       "      <td>Ages 19-21</td>\n",
       "      <td>False</td>\n",
       "    </tr>\n",
       "    <tr>\n",
       "      <th>93</th>\n",
       "      <td>2013000021239</td>\n",
       "      <td>19.0</td>\n",
       "      <td>1</td>\n",
       "      <td>91.0</td>\n",
       "      <td>11614</td>\n",
       "      <td>2</td>\n",
       "      <td>19</td>\n",
       "      <td>6</td>\n",
       "      <td>5</td>\n",
       "      <td>2</td>\n",
       "      <td>2</td>\n",
       "      <td>2</td>\n",
       "      <td>Ages 19-21</td>\n",
       "      <td>False</td>\n",
       "    </tr>\n",
       "    <tr>\n",
       "      <th>101</th>\n",
       "      <td>2013000022626</td>\n",
       "      <td>20.0</td>\n",
       "      <td>1</td>\n",
       "      <td>16.0</td>\n",
       "      <td>11615</td>\n",
       "      <td>2</td>\n",
       "      <td>19</td>\n",
       "      <td>3</td>\n",
       "      <td>1</td>\n",
       "      <td>1</td>\n",
       "      <td>2</td>\n",
       "      <td>2</td>\n",
       "      <td>Ages 19-21</td>\n",
       "      <td>False</td>\n",
       "    </tr>\n",
       "    <tr>\n",
       "      <th>160</th>\n",
       "      <td>2013000032921</td>\n",
       "      <td>18.0</td>\n",
       "      <td>1</td>\n",
       "      <td>24.0</td>\n",
       "      <td>11615</td>\n",
       "      <td>3</td>\n",
       "      <td>18</td>\n",
       "      <td>6</td>\n",
       "      <td>5</td>\n",
       "      <td>2</td>\n",
       "      <td>2</td>\n",
       "      <td>2</td>\n",
       "      <td>Ages 16-18</td>\n",
       "      <td>False</td>\n",
       "    </tr>\n",
       "  </tbody>\n",
       "</table>\n",
       "</div>"
      ],
      "text/plain": [
       "                id   age sex  person_weight   puma school_enrollment  \\\n",
       "32   2013000007063  19.0   1           30.0  11612                 2   \n",
       "54   2013000012970  21.0   2           29.0  11612                 3   \n",
       "93   2013000021239  19.0   1           91.0  11614                 2   \n",
       "101  2013000022626  20.0   1           16.0  11615                 2   \n",
       "160  2013000032921  18.0   1           24.0  11615                 3   \n",
       "\n",
       "    education_attained employment_status avail_for_work look_for_work  \\\n",
       "32                  18                 6              5             2   \n",
       "54                  18                 6              5             2   \n",
       "93                  19                 6              5             2   \n",
       "101                 19                 3              1             1   \n",
       "160                 18                 6              5             2   \n",
       "\n",
       "    absent_from_work layoff   age_group  is_oy  \n",
       "32                 2      2  Ages 19-21  False  \n",
       "54                 2      2  Ages 19-21  False  \n",
       "93                 2      2  Ages 19-21  False  \n",
       "101                2      2  Ages 19-21  False  \n",
       "160                2      2  Ages 16-18  False  "
      ]
     },
     "execution_count": 35,
     "metadata": {},
     "output_type": "execute_result"
    }
   ],
   "source": [
    "# Create df for this data:\n",
    "ed_codes = ['18', '19']\n",
    "\n",
    "no_degree_df = dc.not_oy_dfs(ed_codes)\n",
    "no_degree_df.head()"
   ]
  },
  {
   "cell_type": "markdown",
   "metadata": {},
   "source": [
    "Thus, the number of non-oy with some college but no degree is:"
   ]
  },
  {
   "cell_type": "code",
   "execution_count": 39,
   "metadata": {},
   "outputs": [
    {
     "data": {
      "text/plain": [
       "12797.0"
      ]
     },
     "execution_count": 39,
     "metadata": {},
     "output_type": "execute_result"
    }
   ],
   "source": [
    "no_degree_df['person_weight'].sum()"
   ]
  },
  {
   "cell_type": "markdown",
   "metadata": {},
   "source": [
    "Breaking this down into the 3 age groups:"
   ]
  },
  {
   "cell_type": "code",
   "execution_count": 53,
   "metadata": {},
   "outputs": [
    {
     "name": "stdout",
     "output_type": "stream",
     "text": [
      "Ages 19-21: 6805.0\n",
      "Ages 16-18: 1063.0\n",
      "Ages 22-24: 4929.0\n"
     ]
    }
   ],
   "source": [
    "dc.age_breakdown(no_degree_df)"
   ]
  },
  {
   "cell_type": "markdown",
   "metadata": {},
   "source": [
    "### Find the number of non-OY with a degree or higher:"
   ]
  },
  {
   "cell_type": "code",
   "execution_count": 55,
   "metadata": {},
   "outputs": [
    {
     "data": {
      "text/html": [
       "<div>\n",
       "<style scoped>\n",
       "    .dataframe tbody tr th:only-of-type {\n",
       "        vertical-align: middle;\n",
       "    }\n",
       "\n",
       "    .dataframe tbody tr th {\n",
       "        vertical-align: top;\n",
       "    }\n",
       "\n",
       "    .dataframe thead th {\n",
       "        text-align: right;\n",
       "    }\n",
       "</style>\n",
       "<table border=\"1\" class=\"dataframe\">\n",
       "  <thead>\n",
       "    <tr style=\"text-align: right;\">\n",
       "      <th></th>\n",
       "      <th>id</th>\n",
       "      <th>age</th>\n",
       "      <th>sex</th>\n",
       "      <th>person_weight</th>\n",
       "      <th>puma</th>\n",
       "      <th>school_enrollment</th>\n",
       "      <th>education_attained</th>\n",
       "      <th>employment_status</th>\n",
       "      <th>avail_for_work</th>\n",
       "      <th>look_for_work</th>\n",
       "      <th>absent_from_work</th>\n",
       "      <th>layoff</th>\n",
       "      <th>age_group</th>\n",
       "      <th>is_oy</th>\n",
       "    </tr>\n",
       "  </thead>\n",
       "  <tbody>\n",
       "    <tr>\n",
       "      <th>530</th>\n",
       "      <td>2013000102767</td>\n",
       "      <td>22.0</td>\n",
       "      <td>1</td>\n",
       "      <td>17.0</td>\n",
       "      <td>11615</td>\n",
       "      <td>3</td>\n",
       "      <td>21</td>\n",
       "      <td>1</td>\n",
       "      <td>5</td>\n",
       "      <td>3</td>\n",
       "      <td>3</td>\n",
       "      <td>3</td>\n",
       "      <td>Ages 22-24</td>\n",
       "      <td>False</td>\n",
       "    </tr>\n",
       "    <tr>\n",
       "      <th>543</th>\n",
       "      <td>2013000105303</td>\n",
       "      <td>23.0</td>\n",
       "      <td>1</td>\n",
       "      <td>17.0</td>\n",
       "      <td>11615</td>\n",
       "      <td>2</td>\n",
       "      <td>20</td>\n",
       "      <td>3</td>\n",
       "      <td>5</td>\n",
       "      <td>3</td>\n",
       "      <td>3</td>\n",
       "      <td>3</td>\n",
       "      <td>Ages 22-24</td>\n",
       "      <td>False</td>\n",
       "    </tr>\n",
       "    <tr>\n",
       "      <th>689</th>\n",
       "      <td>2013000135615</td>\n",
       "      <td>23.0</td>\n",
       "      <td>2</td>\n",
       "      <td>20.0</td>\n",
       "      <td>11615</td>\n",
       "      <td>2</td>\n",
       "      <td>20</td>\n",
       "      <td>6</td>\n",
       "      <td>5</td>\n",
       "      <td>2</td>\n",
       "      <td>2</td>\n",
       "      <td>2</td>\n",
       "      <td>Ages 22-24</td>\n",
       "      <td>False</td>\n",
       "    </tr>\n",
       "    <tr>\n",
       "      <th>740</th>\n",
       "      <td>2013000144843</td>\n",
       "      <td>24.0</td>\n",
       "      <td>2</td>\n",
       "      <td>19.0</td>\n",
       "      <td>11614</td>\n",
       "      <td>1</td>\n",
       "      <td>20</td>\n",
       "      <td>1</td>\n",
       "      <td>5</td>\n",
       "      <td>3</td>\n",
       "      <td>3</td>\n",
       "      <td>3</td>\n",
       "      <td>Ages 22-24</td>\n",
       "      <td>False</td>\n",
       "    </tr>\n",
       "    <tr>\n",
       "      <th>903</th>\n",
       "      <td>2013000176491</td>\n",
       "      <td>24.0</td>\n",
       "      <td>1</td>\n",
       "      <td>13.0</td>\n",
       "      <td>11613</td>\n",
       "      <td>1</td>\n",
       "      <td>21</td>\n",
       "      <td>1</td>\n",
       "      <td>5</td>\n",
       "      <td>3</td>\n",
       "      <td>3</td>\n",
       "      <td>3</td>\n",
       "      <td>Ages 22-24</td>\n",
       "      <td>False</td>\n",
       "    </tr>\n",
       "  </tbody>\n",
       "</table>\n",
       "</div>"
      ],
      "text/plain": [
       "                id   age sex  person_weight   puma school_enrollment  \\\n",
       "530  2013000102767  22.0   1           17.0  11615                 3   \n",
       "543  2013000105303  23.0   1           17.0  11615                 2   \n",
       "689  2013000135615  23.0   2           20.0  11615                 2   \n",
       "740  2013000144843  24.0   2           19.0  11614                 1   \n",
       "903  2013000176491  24.0   1           13.0  11613                 1   \n",
       "\n",
       "    education_attained employment_status avail_for_work look_for_work  \\\n",
       "530                 21                 1              5             3   \n",
       "543                 20                 3              5             3   \n",
       "689                 20                 6              5             2   \n",
       "740                 20                 1              5             3   \n",
       "903                 21                 1              5             3   \n",
       "\n",
       "    absent_from_work layoff   age_group  is_oy  \n",
       "530                3      3  Ages 22-24  False  \n",
       "543                3      3  Ages 22-24  False  \n",
       "689                2      2  Ages 22-24  False  \n",
       "740                3      3  Ages 22-24  False  \n",
       "903                3      3  Ages 22-24  False  "
      ]
     },
     "execution_count": 55,
     "metadata": {},
     "output_type": "execute_result"
    }
   ],
   "source": [
    "# Create df for this data:\n",
    "ed_codes = list(map(str, range(20, 25)))\n",
    "\n",
    "degree_df = dc.not_oy_dfs(ed_codes)\n",
    "degree_df.head()"
   ]
  },
  {
   "cell_type": "markdown",
   "metadata": {},
   "source": [
    "Thus, the number of non-oy with a degree or higher is:"
   ]
  },
  {
   "cell_type": "code",
   "execution_count": 56,
   "metadata": {},
   "outputs": [
    {
     "data": {
      "text/plain": [
       "6609.0"
      ]
     },
     "execution_count": 56,
     "metadata": {},
     "output_type": "execute_result"
    }
   ],
   "source": [
    "degree_df['person_weight'].sum()"
   ]
  },
  {
   "cell_type": "markdown",
   "metadata": {},
   "source": [
    "Breaking this down into the 3 age groups:"
   ]
  },
  {
   "cell_type": "code",
   "execution_count": 57,
   "metadata": {},
   "outputs": [
    {
     "name": "stdout",
     "output_type": "stream",
     "text": [
      "Ages 22-24: 4818.0\n",
      "Ages 19-21: 1657.0\n",
      "Ages 16-18: 134.0\n"
     ]
    }
   ],
   "source": [
    "dc.age_breakdown(degree_df)"
   ]
  },
  {
   "cell_type": "code",
   "execution_count": null,
   "metadata": {},
   "outputs": [],
   "source": []
  }
 ],
 "metadata": {
  "kernelspec": {
   "display_name": "Python 3 (oy-env)",
   "language": "python",
   "name": "oy-env"
  },
  "language_info": {
   "codemirror_mode": {
    "name": "ipython",
    "version": 3
   },
   "file_extension": ".py",
   "mimetype": "text/x-python",
   "name": "python",
   "nbconvert_exporter": "python",
   "pygments_lexer": "ipython3",
   "version": "3.8.1"
  }
 },
 "nbformat": 4,
 "nbformat_minor": 4
}
